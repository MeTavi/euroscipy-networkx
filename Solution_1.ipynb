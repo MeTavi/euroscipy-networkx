{
 "cells": [
  {
   "cell_type": "code",
   "execution_count": 51,
   "metadata": {
    "collapsed": true
   },
   "outputs": [],
   "source": [
    "import networkx as nx\n",
    "import matplotlib.pyplot as plt\n",
    "%matplotlib inline\n",
    "\n",
    "import numpy as np"
   ]
  },
  {
   "cell_type": "code",
   "execution_count": 52,
   "metadata": {
    "collapsed": true
   },
   "outputs": [],
   "source": [
    "# Create a graph object using nx.Graph()\n",
    "G = nx.Graph()\n"
   ]
  },
  {
   "cell_type": "code",
   "execution_count": 53,
   "metadata": {
    "collapsed": true
   },
   "outputs": [],
   "source": [
    "# Add nodes to a graph using G.add_node()\n",
    "G.add_node(2)\n",
    "G.add_node('1')\n",
    "G.add_node('foobar')\n"
   ]
  },
  {
   "cell_type": "code",
   "execution_count": 54,
   "metadata": {
    "collapsed": false
   },
   "outputs": [],
   "source": [
    "# Add a list of nodes to a graph\n",
    "list_of_nodes = [1, 2, 3, 'node4']\n",
    "G.add_nodes_from(list_of_nodes)\n"
   ]
  },
  {
   "cell_type": "code",
   "execution_count": 55,
   "metadata": {
    "collapsed": false
   },
   "outputs": [
    {
     "data": {
      "text/plain": [
       "[1, 2, 3, 'foobar', '1', 'node4']"
      ]
     },
     "execution_count": 55,
     "metadata": {},
     "output_type": "execute_result"
    }
   ],
   "source": [
    "# Check out nodes of this graph\n",
    "G.nodes()\n"
   ]
  },
  {
   "cell_type": "code",
   "execution_count": 56,
   "metadata": {
    "collapsed": true
   },
   "outputs": [],
   "source": [
    "# You can also nodes using another Graph object\n",
    "H = nx.path_graph(6)\n",
    "# G.add_nodes_from(H)\n",
    "# Add nodes from H to the graph G.\n",
    "G.add_nodes_from(H)\n",
    "\n",
    "# NOTE!!!! G.add_node(H) and G.add_nodes_from(H) will have different results.\n",
    "# Try it out.\n",
    "G.add_node(H)"
   ]
  },
  {
   "cell_type": "code",
   "execution_count": 57,
   "metadata": {
    "collapsed": false
   },
   "outputs": [
    {
     "data": {
      "text/plain": [
       "[0,\n",
       " 1,\n",
       " 2,\n",
       " 3,\n",
       " 4,\n",
       " 5,\n",
       " 'foobar',\n",
       " '1',\n",
       " <networkx.classes.graph.Graph at 0x1088a5a90>,\n",
       " 'node4']"
      ]
     },
     "execution_count": 57,
     "metadata": {},
     "output_type": "execute_result"
    }
   ],
   "source": [
    "G.nodes()"
   ]
  },
  {
   "cell_type": "code",
   "execution_count": 58,
   "metadata": {
    "collapsed": false
   },
   "outputs": [
    {
     "data": {
      "text/plain": [
       "[(0, 'node4'), (1, 2), (2, 3), (4, 5)]"
      ]
     },
     "execution_count": 58,
     "metadata": {},
     "output_type": "execute_result"
    }
   ],
   "source": [
    "# Add edges to a graph\n",
    "G.add_edge(1, 2)\n",
    "\n",
    "# Add list_of_edges to the graph\n",
    "list_of_edges = [(2, 3), (4, 5), ('node4', 0)]\n",
    "G.add_edges_from(list_of_edges)\n",
    "\n",
    "# View edges\n",
    "G.edges()"
   ]
  },
  {
   "cell_type": "code",
   "execution_count": 59,
   "metadata": {
    "collapsed": false
   },
   "outputs": [
    {
     "name": "stdout",
     "output_type": "stream",
     "text": [
      "10\n",
      "10\n",
      "10\n",
      "4\n",
      "4\n",
      "[0, 1, 2, 3, 4, 5, 'foobar', '1', <networkx.classes.graph.Graph object at 0x1088a5a90>, 'node4']\n",
      "[1, 2, 3, 4, 5, 'foobar', '1', <networkx.classes.graph.Graph object at 0x1088a5a90>, 'node4']\n",
      "[(1, 2), (2, 3), (4, 5)]\n",
      "[(1, 2), (2, 3)]\n",
      "[]\n",
      "[]\n"
     ]
    }
   ],
   "source": [
    "# Number of nodes and edges.\n",
    "print G.number_of_nodes()\n",
    "print len(G)\n",
    "print len(G.nodes())\n",
    "print G.number_of_edges()\n",
    "print len(G.edges())\n",
    "\n",
    "# Utility functions.\n",
    "\n",
    "print G.nodes()\n",
    "G.remove_node(0)\n",
    "print G.nodes()\n",
    "\n",
    "print G.edges()\n",
    "G.remove_edge(4, 5)\n",
    "print G.edges()\n",
    "\n",
    "G.clear()\n",
    "print G.nodes()\n",
    "print G.edges()"
   ]
  },
  {
   "cell_type": "code",
   "execution_count": 60,
   "metadata": {
    "collapsed": false
   },
   "outputs": [
    {
     "name": "stdout",
     "output_type": "stream",
     "text": [
      "[0, 1, 2, 3, 4, 5, 6, 7, 8, 9, 10, 11, 12, 13, 14]\n",
      "[(0, 1), (1, 9), (1, 6), (1, 7), (2, 8), (2, 9), (2, 12), (3, 9), (3, 10), (3, 11), (3, 4), (3, 6), (4, 11), (4, 12), (4, 14), (4, 7), (5, 14), (6, 10), (6, 13), (6, 14), (7, 11), (10, 14)]\n"
     ]
    },
    {
     "data": {
      "image/png": "[encoded data removed]",
      "text/plain": [
       "<matplotlib.figure.Figure at 0x1087c74d0>"
      ]
     },
     "metadata": {},
     "output_type": "display_data"
    }
   ],
   "source": [
    "# One more graph generator\n",
    "G = nx.fast_gnp_random_graph(15, 0.2, seed=1)\n",
    "# Let's checkout nodes and edges\n",
    "print G.nodes()\n",
    "print G.edges()\n",
    "\n",
    "nx.draw(G)"
   ]
  },
  {
   "cell_type": "code",
   "execution_count": 61,
   "metadata": {
    "collapsed": false
   },
   "outputs": [
    {
     "data": {
      "image/png": "[encoded data removed]",
      "text/plain": [
       "<matplotlib.figure.Figure at 0x108a8e4d0>"
      ]
     },
     "metadata": {},
     "output_type": "display_data"
    }
   ],
   "source": [
    "matrix = nx.to_numpy_matrix(G)\n",
    "\n",
    "plt.pcolor(np.array(matrix))\n",
    "plt.axes().set_aspect('equal') # set aspect ratio equal to get a square visualization\n",
    "plt.xlim(min(G.nodes()), max(G.nodes())) # set x and y limits to the number of nodes present.\n",
    "plt.ylim(min(G.nodes()), max(G.nodes()))\n",
    "plt.title('Adjacency Matrix')\n",
    "plt.show()\n",
    "\n",
    "# Credits: Eric Ma"
   ]
  },
  {
   "cell_type": "code",
   "execution_count": 62,
   "metadata": {
    "collapsed": false
   },
   "outputs": [
    {
     "name": "stdout",
     "output_type": "stream",
     "text": [
      "{'name': 'fast_gnp_random_graph(15,0.2)', 'attr': 'EuroSciPy'}\n",
      "[0, 1, 2, 3, 4, 5, 6, 7, 8, 9, 10, 11, 12, 13, 14]\n",
      "[(0, {}), (1, {'time': '11:00AM'}), (2, {}), (3, {}), (4, {}), (5, {}), (6, {}), (7, {}), (8, {}), (9, {}), (10, {}), (11, {}), (12, {}), (13, {}), (14, {})]\n"
     ]
    }
   ],
   "source": [
    "# Adding attributes to graphs, nodes, and edges.\n",
    "G.graph['attr'] = 'EuroSciPy'\n",
    "\n",
    "print G.graph\n",
    "\n",
    "G.add_node(1, time='11:00AM')\n",
    "print G.nodes()\n",
    "print G.nodes(data=True)"
   ]
  },
  {
   "cell_type": "code",
   "execution_count": 63,
   "metadata": {
    "collapsed": true
   },
   "outputs": [],
   "source": [
    "G.add_edge(1, 2, weight=4.7)\n",
    "\n",
    "G.add_edges_from([(3, 4), (4, 5)], color='red')\n",
    "\n",
    "G.add_edges_from([(1, 2, {'color': 'blue'}), (2, 3, {'weight': 8})])\n",
    "\n",
    "G[1][2]['weight'] = 4.7"
   ]
  },
  {
   "cell_type": "code",
   "execution_count": 64,
   "metadata": {
    "collapsed": false
   },
   "outputs": [
    {
     "name": "stdout",
     "output_type": "stream",
     "text": [
      "{0: {}, 9: {}, 2: {'color': 'blue', 'weight': 4.7}, 6: {}, 7: {}}\n",
      "{'color': 'blue', 'weight': 4.7}\n",
      "blue\n"
     ]
    }
   ],
   "source": [
    "print G[1]\n",
    "print G[1][2]\n",
    "print G[1][2]['color']"
   ]
  },
  {
   "cell_type": "markdown",
   "metadata": {},
   "source": [
    "### Exercise - 1"
   ]
  },
  {
   "cell_type": "code",
   "execution_count": 65,
   "metadata": {
    "collapsed": false
   },
   "outputs": [
    {
     "name": "stdout",
     "output_type": "stream",
     "text": [
      "{'weight': 1101}\n"
     ]
    }
   ],
   "source": [
    "G = nx.Graph()\n",
    "list_of_cities = [('Paris', 'Munich', 841), ('Munich', 'Berlin', 584), ('Berlin', 'London', 1101), ('Paris', 'Barcelona', 1038)]\n",
    "G.add_weighted_edges_from(list_of_cities)\n",
    "\n",
    "# Iterate through the edges and find the highest weight.\n",
    "result = max([w for u, v, w in G.edges(data=True)])\n",
    "print result"
   ]
  },
  {
   "cell_type": "code",
   "execution_count": null,
   "metadata": {
    "collapsed": true
   },
   "outputs": [],
   "source": []
  }
 ],
 "metadata": {
  "kernelspec": {
   "display_name": "Python 2",
   "language": "python",
   "name": "python2"
  },
  "language_info": {
   "codemirror_mode": {
    "name": "ipython",
    "version": 2
   },
   "file_extension": ".py",
   "mimetype": "text/x-python",
   "name": "python",
   "nbconvert_exporter": "python",
   "pygments_lexer": "ipython2",
   "version": "2.7.10"
  }
 },
 "nbformat": 4,
 "nbformat_minor": 1
}

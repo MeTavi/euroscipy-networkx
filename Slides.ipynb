{
 "cells": [
  {
   "cell_type": "markdown",
   "metadata": {
    "slideshow": {
     "slide_type": "slide"
    }
   },
   "source": [
    "## Network Analysis using NetworkX"
   ]
  },
  {
   "cell_type": "markdown",
   "metadata": {
    "collapsed": false,
    "slideshow": {
     "slide_type": "slide"
    }
   },
   "source": [
    "## What are Networks (Graphs)?\n",
    "\n",
    "A graph G is represented by a set of nodes and a set of edges. An edge between two nodes in a graph signifies a relationship between those two nodes. Edges can be directed and undirected.\n",
    "![title](img/network.png)"
   ]
  },
  {
   "cell_type": "markdown",
   "metadata": {
    "slideshow": {
     "slide_type": "slide"
    }
   },
   "source": [
    "# Examples?"
   ]
  },
  {
   "cell_type": "markdown",
   "metadata": {
    "slideshow": {
     "slide_type": "slide"
    }
   },
   "source": [
    "![title](img/example.png)"
   ]
  },
  {
   "cell_type": "markdown",
   "metadata": {
    "slideshow": {
     "slide_type": "slide"
    }
   },
   "source": [
    "NetworkX uses dictionaries underneath to store node and edge data.\n",
    "It's dict-o-dict-o-dict-o-dict to be precise.\n",
    "```\n",
    "G['node1']\n",
    "G['node1']['node2']\n",
    "G['node1']['node2']['some_id']['some_attrb']\n",
    "```"
   ]
  },
  {
   "cell_type": "code",
   "execution_count": 220,
   "metadata": {
    "collapsed": true,
    "slideshow": {
     "slide_type": "slide"
    }
   },
   "outputs": [],
   "source": [
    "import networkx as nx\n",
    "import matplotlib.pyplot as plt\n",
    "%matplotlib inline\n",
    "\n",
    "import numpy as np"
   ]
  },
  {
   "cell_type": "code",
   "execution_count": 221,
   "metadata": {
    "collapsed": false,
    "slideshow": {
     "slide_type": "slide"
    }
   },
   "outputs": [],
   "source": [
    "# Create an empty graph object with no nodes and edges.\n",
    "G = nx.Graph() # DiGraph, MultiGraph, MultiDiGraph"
   ]
  },
  {
   "cell_type": "code",
   "execution_count": 222,
   "metadata": {
    "collapsed": true
   },
   "outputs": [],
   "source": [
    "# Add nodes to our graph object\n",
    "# In NetworkX, nodes can be any hashable object e.g. a text string, an image,\n",
    "# an XML object, another Graph, a customized node object, etc.\n",
    "\n",
    "G.add_node('1')\n",
    "G.add_node(1)\n",
    "G.add_node('second')\n",
    "\n",
    "# G.add_node({'dictionary': 'will throw error'})\n",
    "# G.add_node([1, 2])"
   ]
  },
  {
   "cell_type": "code",
   "execution_count": 223,
   "metadata": {
    "collapsed": true
   },
   "outputs": [],
   "source": [
    "list_of_nodes = [1, 2, 3, 'node4']\n",
    "G.add_nodes_from(list_of_nodes)"
   ]
  },
  {
   "cell_type": "code",
   "execution_count": 224,
   "metadata": {
    "collapsed": true
   },
   "outputs": [],
   "source": [
    "# NetworkX has a lot of graph generators path_graph is one of them.\n",
    "H = nx.path_graph(7)\n",
    "G.add_nodes_from(H)"
   ]
  },
  {
   "cell_type": "code",
   "execution_count": 225,
   "metadata": {
    "collapsed": false
   },
   "outputs": [
    {
     "data": {
      "text/plain": [
       "[0, 1, 2, 3, 4, 5, 6, '1', 'second', 'node4']"
      ]
     },
     "execution_count": 225,
     "metadata": {},
     "output_type": "execute_result"
    }
   ],
   "source": [
    "# Access nodes in a Graph object\n",
    "G.nodes()"
   ]
  },
  {
   "cell_type": "markdown",
   "metadata": {
    "slideshow": {
     "slide_type": "slide"
    }
   },
   "source": [
    "Difference between `G.add_node(H)` and `G.add_nodes_from(H)`?"
   ]
  },
  {
   "cell_type": "code",
   "execution_count": 148,
   "metadata": {
    "collapsed": false
   },
   "outputs": [
    {
     "data": {
      "text/plain": [
       "[(0, 'second'), (0, 'node4'), (2, 3), (4, 5), ('second', 'node4')]"
      ]
     },
     "execution_count": 148,
     "metadata": {},
     "output_type": "execute_result"
    }
   ],
   "source": [
    "# Now let's talk about edges.\n",
    "# Edge between two nodes means that they share some property/relationship\n",
    "\n",
    "G.add_edge(0, 'second')\n",
    "G.add_edge(2, 3)\n",
    "G.add_edge('second', 'node4')\n",
    "\n",
    "list_of_edges = [(2, 3), (4, 5), ('node4', 0)]\n",
    "G.add_edges_from(list_of_edges)\n",
    "\n",
    "# Check out edges\n",
    "G.edges()"
   ]
  },
  {
   "cell_type": "code",
   "execution_count": 149,
   "metadata": {
    "collapsed": false,
    "slideshow": {
     "slide_type": "slide"
    }
   },
   "outputs": [
    {
     "name": "stdout",
     "output_type": "stream",
     "text": [
      "10 10 10\n",
      "5 5\n",
      "[0, 1, 2, 3, 4, 5, 6, '1', 'second', 'node4']\n",
      "[1, 2, 3, 4, 5, 6, '1', 'second', 'node4']\n",
      "[(2, 3), (4, 5), ('second', 'node4')]\n",
      "[(2, 3), ('second', 'node4')]\n",
      "[] []\n"
     ]
    }
   ],
   "source": [
    "# Number of nodes and edges.\n",
    "print G.number_of_nodes(), len(G), len(G.nodes())\n",
    "print G.number_of_edges(), len(G.edges())\n",
    "\n",
    "# Utility functions.\n",
    "print G.nodes()\n",
    "G.remove_node(0)\n",
    "print G.nodes()\n",
    "\n",
    "print G.edges()\n",
    "G.remove_edge(4, 5)\n",
    "print G.edges()\n",
    "\n",
    "G.clear()\n",
    "print G.nodes(), G.edges()"
   ]
  },
  {
   "cell_type": "code",
   "execution_count": 150,
   "metadata": {
    "collapsed": false,
    "slideshow": {
     "slide_type": "slide"
    }
   },
   "outputs": [
    {
     "name": "stdout",
     "output_type": "stream",
     "text": [
      "[0, 1, 2, 3, 4, 5, 6, 7, 8, 9]\n",
      "[(0, 1), (1, 9), (1, 6), (1, 7), (2, 8), (2, 9), (3, 9), (3, 4), (3, 6), (4, 7)]\n"
     ]
    },
    {
     "data": {
      "image/png": "[encoded data removed]",
      "text/plain": [
       "<matplotlib.figure.Figure at 0x114330050>"
      ]
     },
     "metadata": {},
     "output_type": "display_data"
    }
   ],
   "source": [
    "# One more graph generator. This will create\n",
    "# a Erdos-Reyni Graph\n",
    "G = nx.fast_gnp_random_graph(10, 0.2, seed=1)\n",
    "\n",
    "# Let's checkout nodes and edges\n",
    "print G.nodes()\n",
    "print G.edges()\n",
    "nx.draw(G)"
   ]
  },
  {
   "cell_type": "code",
   "execution_count": 151,
   "metadata": {
    "collapsed": false,
    "slideshow": {
     "slide_type": "slide"
    }
   },
   "outputs": [
    {
     "data": {
      "image/png": "[encoded data removed]",
      "text/plain": [
       "<matplotlib.figure.Figure at 0x114343850>"
      ]
     },
     "metadata": {},
     "output_type": "display_data"
    }
   ],
   "source": [
    "matrix = nx.to_numpy_matrix(G)\n",
    "\n",
    "plt.pcolor(np.array(matrix))\n",
    "plt.axes().set_aspect('equal') # set aspect ratio equal to get a square visualization\n",
    "plt.xlim(min(G.nodes()), max(G.nodes())) # set x and y limits to the number of nodes present.\n",
    "plt.ylim(min(G.nodes()), max(G.nodes()))\n",
    "plt.title('Adjacency Matrix')\n",
    "plt.show()\n",
    "\n",
    "# Credits: Eric Ma"
   ]
  },
  {
   "cell_type": "code",
   "execution_count": 152,
   "metadata": {
    "collapsed": false,
    "slideshow": {
     "slide_type": "slide"
    }
   },
   "outputs": [
    {
     "name": "stdout",
     "output_type": "stream",
     "text": [
      "nodes:  [0, 1, 2, 3, 4, 5, 6, 7, 8, 9]\n",
      "edges:  [(0, 1), (1, 9), (1, 6), (1, 7), (2, 8), (2, 9), (3, 9), (3, 4), (3, 6), (4, 7)]\n",
      "{1: {}}\n",
      "{0: {}, 9: {}, 6: {}, 7: {}}\n",
      "{}\n"
     ]
    }
   ],
   "source": [
    "# Accessing the graph dictionary\n",
    "print 'nodes: ', (G.nodes())\n",
    "print 'edges: ', G.edges()\n",
    "\n",
    "print G[0]\n",
    "print G[1]\n",
    "print G[1][9]"
   ]
  },
  {
   "cell_type": "code",
   "execution_count": 153,
   "metadata": {
    "collapsed": false,
    "slideshow": {
     "slide_type": "slide"
    }
   },
   "outputs": [
    {
     "name": "stdout",
     "output_type": "stream",
     "text": [
      "{'name': 'fast_gnp_random_graph(10,0.2)', 'attr': 'EuroSciPy'}\n",
      "[0, 1, 2, 3, 4, 5, 6, 7, 8, 9]\n",
      "[(0, {}), (1, {'time': '11:00AM'}), (2, {}), (3, {}), (4, {}), (5, {}), (6, {}), (7, {}), (8, {}), (9, {})]\n"
     ]
    }
   ],
   "source": [
    "# Adding attributes to graphs, nodes, and edges.\n",
    "G.graph['attr'] = 'EuroSciPy'\n",
    "\n",
    "print G.graph\n",
    "\n",
    "G.add_node(1, time='11:00AM')\n",
    "print G.nodes()\n",
    "print G.nodes(data=True)"
   ]
  },
  {
   "cell_type": "code",
   "execution_count": 154,
   "metadata": {
    "collapsed": true,
    "slideshow": {
     "slide_type": "slide"
    }
   },
   "outputs": [],
   "source": [
    "G.add_edge(1, 2, weight=4.7)\n",
    "\n",
    "G.add_edges_from([(3, 4), (4, 5)], color='red')\n",
    "\n",
    "G.add_edges_from([(1, 2, {'color': 'blue'}), (2, 3, {'weight': 8})])\n",
    "\n",
    "G[1][2]['weight'] = 4.7"
   ]
  },
  {
   "cell_type": "code",
   "execution_count": 155,
   "metadata": {
    "collapsed": false
   },
   "outputs": [
    {
     "name": "stdout",
     "output_type": "stream",
     "text": [
      "{0: {}, 9: {}, 2: {'color': 'blue', 'weight': 4.7}, 6: {}, 7: {}}\n",
      "{'color': 'blue', 'weight': 4.7}\n",
      "blue\n"
     ]
    }
   ],
   "source": [
    "print G[1]\n",
    "print G[1][2]\n",
    "print G[1][2]['color']"
   ]
  },
  {
   "cell_type": "markdown",
   "metadata": {
    "slideshow": {
     "slide_type": "slide"
    }
   },
   "source": [
    "### Exercise - 1"
   ]
  },
  {
   "cell_type": "code",
   "execution_count": 156,
   "metadata": {
    "collapsed": false
   },
   "outputs": [
    {
     "name": "stdout",
     "output_type": "stream",
     "text": [
      "['Paris', 'Berlin', 'London', 'Barcelona', 'Munich']\n",
      "[('Paris', 'Barcelona', {'weight': 1038}), ('Paris', 'Munich', {'weight': 841}), ('Berlin', 'London', {'weight': 1101}), ('Berlin', 'Munich', {'weight': 584})]\n"
     ]
    }
   ],
   "source": [
    "G = nx.Graph()\n",
    "list_of_cities = [('Paris', 'Munich', 841), ('Munich', 'Berlin', 584), ('Berlin', 'London', 1101), ('Paris', 'Barcelona', 1038)]\n",
    "G.add_weighted_edges_from(list_of_cities)\n",
    "\n",
    "print G.nodes()\n",
    "print G.edges(data=True)\n",
    "# Iterate through the edges and find the highest weight."
   ]
  },
  {
   "cell_type": "code",
   "execution_count": 157,
   "metadata": {
    "collapsed": false,
    "slideshow": {
     "slide_type": "slide"
    }
   },
   "outputs": [
    {
     "name": "stdout",
     "output_type": "stream",
     "text": [
      "{'weight': 1101}\n"
     ]
    }
   ],
   "source": [
    "result = max([w for u, v, w in G.edges(data=True)])\n",
    "print result\n",
    "\n",
    "# max(G.edges(data=True), key=lambda x:x[2])"
   ]
  },
  {
   "cell_type": "markdown",
   "metadata": {
    "slideshow": {
     "slide_type": "slide"
    }
   },
   "source": [
    "Let's work on a read world network.\n",
    "\n",
    "Arxiv GR-QC (General Relativity and Quantum Cosmology) collaboration network is from the e-print arXiv and covers scientific collaborations between authors papers submitted to General Relativity and Quantum Cosmology category. If an author i co-authored a paper with author j, the graph contains a undirected edge from i to j. If the paper is co-authored by k authors this generates a completely connected (sub)graph on k nodes.\n",
    "\n",
    "source: http://snap.stanford.edu/data/index.html#canets"
   ]
  },
  {
   "cell_type": "code",
   "execution_count": 231,
   "metadata": {
    "collapsed": false
   },
   "outputs": [],
   "source": [
    "import csv\n",
    "G = nx.Graph()\n",
    "with open('CA-GrQc.txt', 'r') as f:\n",
    "    reader = csv.reader(f, delimiter='\\t')\n",
    "    for row in reader:\n",
    "        G.add_edge(row[0], row[1])"
   ]
  },
  {
   "cell_type": "code",
   "execution_count": 232,
   "metadata": {
    "collapsed": false,
    "slideshow": {
     "slide_type": "-"
    }
   },
   "outputs": [
    {
     "name": "stdout",
     "output_type": "stream",
     "text": [
      "14496\n",
      "5242\n"
     ]
    }
   ],
   "source": [
    "print G.number_of_edges()\n",
    "print G.number_of_nodes()"
   ]
  },
  {
   "cell_type": "markdown",
   "metadata": {
    "collapsed": false,
    "slideshow": {
     "slide_type": "slide"
    }
   },
   "source": [
    "Let's start some analysis of this network."
   ]
  },
  {
   "cell_type": "code",
   "execution_count": 233,
   "metadata": {
    "collapsed": false
   },
   "outputs": [
    {
     "data": {
      "text/plain": [
       "33"
      ]
     },
     "execution_count": 233,
     "metadata": {},
     "output_type": "execute_result"
    }
   ],
   "source": [
    "# Neighbors/ degree of node is one way of calculating the importance\n",
    "# of the node.\n",
    "\n",
    "len(G.neighbors('22504'))"
   ]
  },
  {
   "cell_type": "markdown",
   "metadata": {
    "slideshow": {
     "slide_type": "slide"
    }
   },
   "source": [
    "### Exercise - 2\n",
    "\n",
    "Create a list of (node, degree of node) tuples and find the node with maximum degree."
   ]
  },
  {
   "cell_type": "code",
   "execution_count": 234,
   "metadata": {
    "collapsed": false,
    "slideshow": {
     "slide_type": "slide"
    }
   },
   "outputs": [],
   "source": [
    "result = [(node, len(G.neighbors(node))) for node in G.nodes_iter()]"
   ]
  },
  {
   "cell_type": "code",
   "execution_count": 235,
   "metadata": {
    "collapsed": false
   },
   "outputs": [
    {
     "data": {
      "text/plain": [
       "('21012', 81)"
      ]
     },
     "execution_count": 235,
     "metadata": {},
     "output_type": "execute_result"
    }
   ],
   "source": [
    "max(result, key=lambda node:node[1])"
   ]
  },
  {
   "cell_type": "code",
   "execution_count": 236,
   "metadata": {
    "collapsed": false
   },
   "outputs": [
    {
     "data": {
      "text/plain": [
       "81"
      ]
     },
     "execution_count": 236,
     "metadata": {},
     "output_type": "execute_result"
    }
   ],
   "source": [
    "G.degree()['21012']"
   ]
  },
  {
   "cell_type": "code",
   "execution_count": 237,
   "metadata": {
    "collapsed": false,
    "slideshow": {
     "slide_type": "slide"
    }
   },
   "outputs": [],
   "source": [
    "# G = nx.fast_gnp_random_graph(1000, 0.9)\n",
    "D = {}\n",
    "for node, value in nx.degree_centrality(G).items():\n",
    "    if value in D:\n",
    "        D[value] += 1\n",
    "    else:\n",
    "        D[value] = 1"
   ]
  },
  {
   "cell_type": "code",
   "execution_count": 238,
   "metadata": {
    "collapsed": false
   },
   "outputs": [
    {
     "data": {
      "image/png": "[encoded data removed]",
      "text/plain": [
       "<matplotlib.figure.Figure at 0x1115ecf10>"
      ]
     },
     "metadata": {},
     "output_type": "display_data"
    }
   ],
   "source": [
    "d = sorted(D.items())\n",
    "x, y = zip(*d)\n",
    "plt.plot(x, y)\n",
    "plt.show()"
   ]
  },
  {
   "cell_type": "code",
   "execution_count": 239,
   "metadata": {
    "collapsed": false
   },
   "outputs": [],
   "source": [
    "# Various other measures of centrality like ``nx.closeness_centrality`` and ``nx.betweenness_centrality``"
   ]
  },
  {
   "cell_type": "code",
   "execution_count": 240,
   "metadata": {
    "collapsed": false,
    "slideshow": {
     "slide_type": "slide"
    }
   },
   "outputs": [
    {
     "name": "stdout",
     "output_type": "stream",
     "text": [
      "[4158, 14, 12, 10, 9, 9, 8, 8, 8, 8, 8, 8, 7, 7, 7, 7, 7, 7, 7, 7, 6, 6, 6, 6, 6, 6, 6, 6, 6, 6, 6, 6, 5, 5, 5, 5, 5, 5, 5, 5, 5, 5, 5, 5, 5, 5, 5, 5, 5, 4, 4, 4, 4, 4, 4, 4, 4, 4, 4, 4, 4, 4, 4, 4, 4, 4, 4, 4, 4, 4, 4, 4, 4, 4, 4, 4, 4, 4, 4, 3, 3, 3, 3, 3, 3, 3, 3, 3, 3, 3, 3, 3, 3, 3, 3, 3, 3, 3, 3, 3, 3, 3, 3, 3, 3, 3, 3, 3, 3, 3, 3, 3, 3, 3, 3, 3, 3, 3, 3, 3, 3, 3, 3, 3, 3, 3, 3, 3, 3, 3, 3, 3, 3, 3, 3, 3, 3, 3, 3, 3, 3, 3, 3, 3, 3, 3, 3, 3, 3, 3, 3, 3, 3, 3, 3, 3, 3, 3, 3, 3, 3, 3, 3, 3, 3, 3, 3, 3, 3, 3, 3, 3, 3, 3, 3, 3, 3, 2, 2, 2, 2, 2, 2, 2, 2, 2, 2, 2, 2, 2, 2, 2, 2, 2, 2, 2, 2, 2, 2, 2, 2, 2, 2, 2, 2, 2, 2, 2, 2, 2, 2, 2, 2, 2, 2, 2, 2, 2, 2, 2, 2, 2, 2, 2, 2, 2, 2, 2, 2, 2, 2, 2, 2, 2, 2, 2, 2, 2, 2, 2, 2, 2, 2, 2, 2, 2, 2, 2, 2, 2, 2, 2, 2, 2, 2, 2, 2, 2, 2, 2, 2, 2, 2, 2, 2, 2, 2, 2, 2, 2, 2, 2, 2, 2, 2, 2, 2, 2, 2, 2, 2, 2, 2, 2, 2, 2, 2, 2, 2, 2, 2, 2, 2, 2, 2, 2, 2, 2, 2, 2, 2, 2, 2, 2, 2, 2, 2, 2, 2, 2, 2, 2, 2, 2, 2, 2, 2, 2, 2, 2, 2, 2, 2, 2, 2, 2, 2, 2, 2, 2, 2, 2, 2, 2, 2, 2, 2, 2, 2, 2, 2, 2, 2, 2, 2, 2, 2, 2, 2, 2, 2, 2, 2, 2, 1]\n"
     ]
    }
   ],
   "source": [
    "# Lets talk about connected components of a graph.\n",
    "print [len(c) for c in sorted(nx.connected_components(G), key=len, reverse=True)]"
   ]
  },
  {
   "cell_type": "code",
   "execution_count": 241,
   "metadata": {
    "collapsed": false,
    "slideshow": {
     "slide_type": "slide"
    }
   },
   "outputs": [],
   "source": [
    "graphs = [c for c in sorted(nx.connected_component_subgraphs(G), key=len, reverse=True)]"
   ]
  },
  {
   "cell_type": "code",
   "execution_count": 242,
   "metadata": {
    "collapsed": false
   },
   "outputs": [
    {
     "data": {
      "text/plain": [
       "14"
      ]
     },
     "execution_count": 242,
     "metadata": {},
     "output_type": "execute_result"
    }
   ],
   "source": [
    "len(graphs[1])"
   ]
  },
  {
   "cell_type": "code",
   "execution_count": 243,
   "metadata": {
    "collapsed": false
   },
   "outputs": [
    {
     "data": {
      "image/png": "[encoded data removed]",
      "text/plain": [
       "<matplotlib.figure.Figure at 0x111450f10>"
      ]
     },
     "metadata": {},
     "output_type": "display_data"
    }
   ],
   "source": [
    "nx.draw_networkx(graphs[5])"
   ]
  },
  {
   "cell_type": "code",
   "execution_count": 250,
   "metadata": {
    "collapsed": false
   },
   "outputs": [
    {
     "name": "stdout",
     "output_type": "stream",
     "text": [
      "['22504', '6512', '18757', '5172', '3677', '23991']\n",
      "6\n",
      "5\n"
     ]
    }
   ],
   "source": [
    "# One of the most important features of network analyis is graph\n",
    "# traversal.\n",
    "print nx.shortest_path(graphs[0], '22504', '23991')\n",
    "print len(nx.shortest_path(graphs[0], '22504', '23991'))\n",
    "print nx.shortest_path_length(graphs[0], '22504', '23991')"
   ]
  },
  {
   "cell_type": "code",
   "execution_count": 245,
   "metadata": {
    "collapsed": false
   },
   "outputs": [],
   "source": [
    "# nx.shortest_path(G, '22504', '17453')"
   ]
  },
  {
   "cell_type": "markdown",
   "metadata": {
    "slideshow": {
     "slide_type": "slide"
    }
   },
   "source": [
    "### Excersise -3 \n",
    "##### Six degrees of separation, Erdos Number, Bacon Number!!\n",
    "\n",
    "Find the '22504' number of the graph G, if there is no connection between nodes then give it the number `-1`.\n",
    "Also plot a histogram of the '22504' number.\n",
    "\n",
    "HINT: `nx.shortest_path_length`"
   ]
  },
  {
   "cell_type": "code",
   "execution_count": 246,
   "metadata": {
    "collapsed": true
   },
   "outputs": [],
   "source": [
    "# G = nx.fast_gnp_random_graph(100, 0.3, seed=1)\n"
   ]
  },
  {
   "cell_type": "code",
   "execution_count": 247,
   "metadata": {
    "collapsed": false,
    "slideshow": {
     "slide_type": "slide"
    }
   },
   "outputs": [],
   "source": [
    "d = {}\n",
    "for node in G.nodes():\n",
    "    try:\n",
    "        d[node] = nx.shortest_path_length(G, '22504', node)\n",
    "    except:\n",
    "        d[node] = -1"
   ]
  },
  {
   "cell_type": "code",
   "execution_count": 248,
   "metadata": {
    "collapsed": false
   },
   "outputs": [
    {
     "data": {
      "image/png": "[encoded data removed]",
      "text/plain": [
       "<matplotlib.figure.Figure at 0x114170550>"
      ]
     },
     "metadata": {},
     "output_type": "display_data"
    }
   ],
   "source": [
    "plt.hist(d.values())\n",
    "plt.show()"
   ]
  },
  {
   "cell_type": "code",
   "execution_count": null,
   "metadata": {
    "collapsed": true
   },
   "outputs": [],
   "source": []
  },
  {
   "cell_type": "code",
   "execution_count": null,
   "metadata": {
    "collapsed": true
   },
   "outputs": [],
   "source": []
  }
 ],
 "metadata": {
  "celltoolbar": "Slideshow",
  "kernelspec": {
   "display_name": "Python 2",
   "language": "python",
   "name": "python2"
  },
  "language_info": {
   "codemirror_mode": {
    "name": "ipython",
    "version": 2
   },
   "file_extension": ".py",
   "mimetype": "text/x-python",
   "name": "python",
   "nbconvert_exporter": "python",
   "pygments_lexer": "ipython2",
   "version": "2.7.10"
  }
 },
 "nbformat": 4,
 "nbformat_minor": 1
}

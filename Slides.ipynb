{
 "cells": [
  {
   "cell_type": "markdown",
   "metadata": {
    "slideshow": {
     "slide_type": "slide"
    }
   },
   "source": [
    "## Network Analysis using NetworkX"
   ]
  },
  {
   "cell_type": "markdown",
   "metadata": {
    "collapsed": false,
    "slideshow": {
     "slide_type": "slide"
    }
   },
   "source": [
    "## What are Networks (Graphs)?\n",
    "\n",
    "A graph G is represented by a set of nodes and a set of edges. An edge between two nodes in a graph signifies a relationship between those two nodes. Edges can be directed and undirected.\n",
    "![title](img/network.png)"
   ]
  },
  {
   "cell_type": "markdown",
   "metadata": {
    "slideshow": {
     "slide_type": "slide"
    }
   },
   "source": [
    "# Examples?"
   ]
  },
  {
   "cell_type": "markdown",
   "metadata": {
    "slideshow": {
     "slide_type": "slide"
    }
   },
   "source": [
    "![title](img/example.png)"
   ]
  },
  {
   "cell_type": "markdown",
   "metadata": {
    "slideshow": {
     "slide_type": "slide"
    }
   },
   "source": [
    "NetworkX uses dictionaries underneath to store node and edge data.\n",
    "It's dict-o-dict-o-dict-o-dict to be precise.\n",
    "```\n",
    "G['node1']\n",
    "G['node1']['node2']\n",
    "G['node1']['node2']['some_id']['some_attrb']\n",
    "```"
   ]
  },
  {
   "cell_type": "code",
   "execution_count": 330,
   "metadata": {
    "collapsed": true,
    "slideshow": {
     "slide_type": "slide"
    }
   },
   "outputs": [],
   "source": [
    "import networkx as nx\n",
    "import matplotlib.pyplot as plt\n",
    "%matplotlib inline\n",
    "\n",
    "import numpy as np"
   ]
  },
  {
   "cell_type": "code",
   "execution_count": 331,
   "metadata": {
    "collapsed": false,
    "slideshow": {
     "slide_type": "slide"
    }
   },
   "outputs": [],
   "source": [
    "# Create an empty graph object with no nodes and edges.\n",
    "G = nx.Graph() # DiGraph, MultiGraph, MultiDiGraph"
   ]
  },
  {
   "cell_type": "code",
   "execution_count": 332,
   "metadata": {
    "collapsed": true
   },
   "outputs": [],
   "source": [
    "# Add nodes to our graph object\n",
    "# In NetworkX, nodes can be any hashable object e.g. a text string, an image,\n",
    "# an XML object, another Graph, a customized node object, etc.\n",
    "\n",
    "G.add_node('1')\n",
    "G.add_node(1)\n",
    "G.add_node('second')\n",
    "\n",
    "# G.add_node({'dictionary': 'will throw error'})\n",
    "# G.add_node([1, 2])"
   ]
  },
  {
   "cell_type": "code",
   "execution_count": 333,
   "metadata": {
    "collapsed": true
   },
   "outputs": [],
   "source": [
    "list_of_nodes = [1, 2, 3, 'node4']\n",
    "G.add_nodes_from(list_of_nodes)"
   ]
  },
  {
   "cell_type": "code",
   "execution_count": 334,
   "metadata": {
    "collapsed": true
   },
   "outputs": [],
   "source": [
    "# NetworkX has a lot of graph generators path_graph is one of them.\n",
    "H = nx.path_graph(7)\n",
    "G.add_nodes_from(H)"
   ]
  },
  {
   "cell_type": "code",
   "execution_count": 335,
   "metadata": {
    "collapsed": false
   },
   "outputs": [
    {
     "data": {
      "text/plain": [
       "[0, 1, 2, 3, 4, 5, 6, '1', 'second', 'node4']"
      ]
     },
     "execution_count": 335,
     "metadata": {},
     "output_type": "execute_result"
    }
   ],
   "source": [
    "# Access nodes in a Graph object\n",
    "G.nodes()"
   ]
  },
  {
   "cell_type": "markdown",
   "metadata": {
    "slideshow": {
     "slide_type": "slide"
    }
   },
   "source": [
    "Difference between `G.add_node(H)` and `G.add_nodes_from(H)`?"
   ]
  },
  {
   "cell_type": "code",
   "execution_count": 148,
   "metadata": {
    "collapsed": false
   },
   "outputs": [
    {
     "data": {
      "text/plain": [
       "[(0, 'second'), (0, 'node4'), (2, 3), (4, 5), ('second', 'node4')]"
      ]
     },
     "execution_count": 148,
     "metadata": {},
     "output_type": "execute_result"
    }
   ],
   "source": [
    "# Now let's talk about edges.\n",
    "# Edge between two nodes means that they share some property/relationship\n",
    "\n",
    "G.add_edge(0, 'second')\n",
    "G.add_edge(2, 3)\n",
    "G.add_edge('second', 'node4')\n",
    "\n",
    "list_of_edges = [(2, 3), (4, 5), ('node4', 0)]\n",
    "G.add_edges_from(list_of_edges)\n",
    "\n",
    "# Check out edges\n",
    "G.edges()"
   ]
  },
  {
   "cell_type": "code",
   "execution_count": 149,
   "metadata": {
    "collapsed": false,
    "slideshow": {
     "slide_type": "slide"
    }
   },
   "outputs": [
    {
     "name": "stdout",
     "output_type": "stream",
     "text": [
      "10 10 10\n",
      "5 5\n",
      "[0, 1, 2, 3, 4, 5, 6, '1', 'second', 'node4']\n",
      "[1, 2, 3, 4, 5, 6, '1', 'second', 'node4']\n",
      "[(2, 3), (4, 5), ('second', 'node4')]\n",
      "[(2, 3), ('second', 'node4')]\n",
      "[] []\n"
     ]
    }
   ],
   "source": [
    "# Number of nodes and edges.\n",
    "print G.number_of_nodes(), len(G), len(G.nodes())\n",
    "print G.number_of_edges(), len(G.edges())\n",
    "\n",
    "# Utility functions.\n",
    "print G.nodes()\n",
    "G.remove_node(0)\n",
    "print G.nodes()\n",
    "\n",
    "print G.edges()\n",
    "G.remove_edge(4, 5)\n",
    "print G.edges()\n",
    "\n",
    "G.clear()\n",
    "print G.nodes(), G.edges()"
   ]
  },
  {
   "cell_type": "code",
   "execution_count": 150,
   "metadata": {
    "collapsed": false,
    "slideshow": {
     "slide_type": "slide"
    }
   },
   "outputs": [
    {
     "name": "stdout",
     "output_type": "stream",
     "text": [
      "[0, 1, 2, 3, 4, 5, 6, 7, 8, 9]\n",
      "[(0, 1), (1, 9), (1, 6), (1, 7), (2, 8), (2, 9), (3, 9), (3, 4), (3, 6), (4, 7)]\n"
     ]
    },
    {
     "data": {
      "image/png": "[encoded data removed]",
      "text/plain": [
       "<matplotlib.figure.Figure at 0x114330050>"
      ]
     },
     "metadata": {},
     "output_type": "display_data"
    }
   ],
   "source": [
    "# One more graph generator. This will create\n",
    "# a Erdos-Reyni Graph\n",
    "G = nx.fast_gnp_random_graph(10, 0.2, seed=1)\n",
    "\n",
    "# Let's checkout nodes and edges\n",
    "print G.nodes()\n",
    "print G.edges()\n",
    "nx.draw(G)"
   ]
  },
  {
   "cell_type": "code",
   "execution_count": 151,
   "metadata": {
    "collapsed": false,
    "slideshow": {
     "slide_type": "slide"
    }
   },
   "outputs": [
    {
     "data": {
      "image/png": "[encoded data removed]",
      "text/plain": [
       "<matplotlib.figure.Figure at 0x114343850>"
      ]
     },
     "metadata": {},
     "output_type": "display_data"
    }
   ],
   "source": [
    "matrix = nx.to_numpy_matrix(G)\n",
    "\n",
    "plt.pcolor(np.array(matrix))\n",
    "plt.axes().set_aspect('equal') # set aspect ratio equal to get a square visualization\n",
    "plt.xlim(min(G.nodes()), max(G.nodes())) # set x and y limits to the number of nodes present.\n",
    "plt.ylim(min(G.nodes()), max(G.nodes()))\n",
    "plt.title('Adjacency Matrix')\n",
    "plt.show()\n",
    "\n",
    "# Credits: Eric Ma"
   ]
  },
  {
   "cell_type": "code",
   "execution_count": 152,
   "metadata": {
    "collapsed": false,
    "slideshow": {
     "slide_type": "slide"
    }
   },
   "outputs": [
    {
     "name": "stdout",
     "output_type": "stream",
     "text": [
      "nodes:  [0, 1, 2, 3, 4, 5, 6, 7, 8, 9]\n",
      "edges:  [(0, 1), (1, 9), (1, 6), (1, 7), (2, 8), (2, 9), (3, 9), (3, 4), (3, 6), (4, 7)]\n",
      "{1: {}}\n",
      "{0: {}, 9: {}, 6: {}, 7: {}}\n",
      "{}\n"
     ]
    }
   ],
   "source": [
    "# Accessing the graph dictionary\n",
    "print 'nodes: ', (G.nodes())\n",
    "print 'edges: ', G.edges()\n",
    "\n",
    "print G[0]\n",
    "print G[1]\n",
    "print G[1][9]"
   ]
  },
  {
   "cell_type": "code",
   "execution_count": 153,
   "metadata": {
    "collapsed": false,
    "slideshow": {
     "slide_type": "slide"
    }
   },
   "outputs": [
    {
     "name": "stdout",
     "output_type": "stream",
     "text": [
      "{'name': 'fast_gnp_random_graph(10,0.2)', 'attr': 'EuroSciPy'}\n",
      "[0, 1, 2, 3, 4, 5, 6, 7, 8, 9]\n",
      "[(0, {}), (1, {'time': '11:00AM'}), (2, {}), (3, {}), (4, {}), (5, {}), (6, {}), (7, {}), (8, {}), (9, {})]\n"
     ]
    }
   ],
   "source": [
    "# Adding attributes to graphs, nodes, and edges.\n",
    "G.graph['attr'] = 'EuroSciPy'\n",
    "\n",
    "print G.graph\n",
    "\n",
    "G.add_node(1, time='11:00AM')\n",
    "print G.nodes()\n",
    "print G.nodes(data=True)"
   ]
  },
  {
   "cell_type": "code",
   "execution_count": 154,
   "metadata": {
    "collapsed": true,
    "slideshow": {
     "slide_type": "slide"
    }
   },
   "outputs": [],
   "source": [
    "G.add_edge(1, 2, weight=4.7)\n",
    "\n",
    "G.add_edges_from([(3, 4), (4, 5)], color='red')\n",
    "\n",
    "G.add_edges_from([(1, 2, {'color': 'blue'}), (2, 3, {'weight': 8})])\n",
    "\n",
    "G[1][2]['weight'] = 4.7"
   ]
  },
  {
   "cell_type": "code",
   "execution_count": 155,
   "metadata": {
    "collapsed": false
   },
   "outputs": [
    {
     "name": "stdout",
     "output_type": "stream",
     "text": [
      "{0: {}, 9: {}, 2: {'color': 'blue', 'weight': 4.7}, 6: {}, 7: {}}\n",
      "{'color': 'blue', 'weight': 4.7}\n",
      "blue\n"
     ]
    }
   ],
   "source": [
    "print G[1]\n",
    "print G[1][2]\n",
    "print G[1][2]['color']"
   ]
  },
  {
   "cell_type": "markdown",
   "metadata": {
    "slideshow": {
     "slide_type": "slide"
    }
   },
   "source": [
    "### Exercise - 1"
   ]
  },
  {
   "cell_type": "code",
   "execution_count": 156,
   "metadata": {
    "collapsed": false
   },
   "outputs": [
    {
     "name": "stdout",
     "output_type": "stream",
     "text": [
      "['Paris', 'Berlin', 'London', 'Barcelona', 'Munich']\n",
      "[('Paris', 'Barcelona', {'weight': 1038}), ('Paris', 'Munich', {'weight': 841}), ('Berlin', 'London', {'weight': 1101}), ('Berlin', 'Munich', {'weight': 584})]\n"
     ]
    }
   ],
   "source": [
    "G = nx.Graph()\n",
    "list_of_cities = [('Paris', 'Munich', 841), ('Munich', 'Berlin', 584), ('Berlin', 'London', 1101), ('Paris', 'Barcelona', 1038)]\n",
    "G.add_weighted_edges_from(list_of_cities)\n",
    "\n",
    "print G.nodes()\n",
    "print G.edges(data=True)\n",
    "# Iterate through the edges and find the highest weight."
   ]
  },
  {
   "cell_type": "code",
   "execution_count": 157,
   "metadata": {
    "collapsed": false,
    "slideshow": {
     "slide_type": "slide"
    }
   },
   "outputs": [
    {
     "name": "stdout",
     "output_type": "stream",
     "text": [
      "{'weight': 1101}\n"
     ]
    }
   ],
   "source": [
    "result = max([w for u, v, w in G.edges(data=True)])\n",
    "print result\n",
    "\n",
    "# max(G.edges(data=True), key=lambda x:x[2])"
   ]
  },
  {
   "cell_type": "markdown",
   "metadata": {
    "slideshow": {
     "slide_type": "slide"
    }
   },
   "source": [
    "Let's work on a read world network.\n",
    "\n",
    "Arxiv GR-QC (General Relativity and Quantum Cosmology) collaboration network is from the e-print arXiv and covers scientific collaborations between authors papers submitted to General Relativity and Quantum Cosmology category. If an author i co-authored a paper with author j, the graph contains a undirected edge from i to j. If the paper is co-authored by k authors this generates a completely connected (sub)graph on k nodes.\n",
    "\n",
    "source: http://snap.stanford.edu/data/index.html#canets"
   ]
  },
  {
   "cell_type": "code",
   "execution_count": 295,
   "metadata": {
    "collapsed": false
   },
   "outputs": [],
   "source": [
    "import csv\n",
    "G = nx.Graph()\n",
    "with open('CA-GrQc.txt', 'r') as f:\n",
    "    reader = csv.reader(f, delimiter='\\t')\n",
    "    for row in reader:\n",
    "        G.add_edge(row[0], row[1])"
   ]
  },
  {
   "cell_type": "code",
   "execution_count": 296,
   "metadata": {
    "collapsed": false,
    "slideshow": {
     "slide_type": "-"
    }
   },
   "outputs": [
    {
     "name": "stdout",
     "output_type": "stream",
     "text": [
      "14496\n",
      "5242\n"
     ]
    }
   ],
   "source": [
    "print G.number_of_edges()\n",
    "print G.number_of_nodes()"
   ]
  },
  {
   "cell_type": "markdown",
   "metadata": {
    "collapsed": false,
    "slideshow": {
     "slide_type": "slide"
    }
   },
   "source": [
    "Let's start some analysis of this network."
   ]
  },
  {
   "cell_type": "code",
   "execution_count": 233,
   "metadata": {
    "collapsed": false
   },
   "outputs": [
    {
     "data": {
      "text/plain": [
       "33"
      ]
     },
     "execution_count": 233,
     "metadata": {},
     "output_type": "execute_result"
    }
   ],
   "source": [
    "# Neighbors/ degree of node is one way of calculating the importance\n",
    "# of the node.\n",
    "\n",
    "len(G.neighbors('22504'))"
   ]
  },
  {
   "cell_type": "markdown",
   "metadata": {
    "slideshow": {
     "slide_type": "slide"
    }
   },
   "source": [
    "### Exercise - 2\n",
    "\n",
    "Create a list of (node, degree of node) tuples and find the node with maximum degree."
   ]
  },
  {
   "cell_type": "code",
   "execution_count": 234,
   "metadata": {
    "collapsed": false,
    "slideshow": {
     "slide_type": "slide"
    }
   },
   "outputs": [],
   "source": [
    "result = [(node, len(G.neighbors(node))) for node in G.nodes_iter()]"
   ]
  },
  {
   "cell_type": "code",
   "execution_count": 235,
   "metadata": {
    "collapsed": false
   },
   "outputs": [
    {
     "data": {
      "text/plain": [
       "('21012', 81)"
      ]
     },
     "execution_count": 235,
     "metadata": {},
     "output_type": "execute_result"
    }
   ],
   "source": [
    "max(result, key=lambda node:node[1])"
   ]
  },
  {
   "cell_type": "code",
   "execution_count": 236,
   "metadata": {
    "collapsed": false
   },
   "outputs": [
    {
     "data": {
      "text/plain": [
       "81"
      ]
     },
     "execution_count": 236,
     "metadata": {},
     "output_type": "execute_result"
    }
   ],
   "source": [
    "G.degree()['21012']"
   ]
  },
  {
   "cell_type": "code",
   "execution_count": 237,
   "metadata": {
    "collapsed": false,
    "slideshow": {
     "slide_type": "slide"
    }
   },
   "outputs": [],
   "source": [
    "# G = nx.fast_gnp_random_graph(1000, 0.9)\n",
    "D = {}\n",
    "for node, value in nx.degree_centrality(G).items():\n",
    "    if value in D:\n",
    "        D[value] += 1\n",
    "    else:\n",
    "        D[value] = 1"
   ]
  },
  {
   "cell_type": "code",
   "execution_count": 238,
   "metadata": {
    "collapsed": false
   },
   "outputs": [
    {
     "data": {
      "image/png": "[encoded data removed]",
      "text/plain": [
       "<matplotlib.figure.Figure at 0x1115ecf10>"
      ]
     },
     "metadata": {},
     "output_type": "display_data"
    }
   ],
   "source": [
    "d = sorted(D.items())\n",
    "x, y = zip(*d)\n",
    "plt.plot(x, y)\n",
    "plt.show()"
   ]
  },
  {
   "cell_type": "code",
   "execution_count": 239,
   "metadata": {
    "collapsed": false
   },
   "outputs": [],
   "source": [
    "# Various other measures of centrality like ``nx.closeness_centrality`` and ``nx.betweenness_centrality``"
   ]
  },
  {
   "cell_type": "code",
   "execution_count": 240,
   "metadata": {
    "collapsed": false,
    "slideshow": {
     "slide_type": "slide"
    }
   },
   "outputs": [
    {
     "name": "stdout",
     "output_type": "stream",
     "text": [
      "[4158, 14, 12, 10, 9, 9, 8, 8, 8, 8, 8, 8, 7, 7, 7, 7, 7, 7, 7, 7, 6, 6, 6, 6, 6, 6, 6, 6, 6, 6, 6, 6, 5, 5, 5, 5, 5, 5, 5, 5, 5, 5, 5, 5, 5, 5, 5, 5, 5, 4, 4, 4, 4, 4, 4, 4, 4, 4, 4, 4, 4, 4, 4, 4, 4, 4, 4, 4, 4, 4, 4, 4, 4, 4, 4, 4, 4, 4, 4, 3, 3, 3, 3, 3, 3, 3, 3, 3, 3, 3, 3, 3, 3, 3, 3, 3, 3, 3, 3, 3, 3, 3, 3, 3, 3, 3, 3, 3, 3, 3, 3, 3, 3, 3, 3, 3, 3, 3, 3, 3, 3, 3, 3, 3, 3, 3, 3, 3, 3, 3, 3, 3, 3, 3, 3, 3, 3, 3, 3, 3, 3, 3, 3, 3, 3, 3, 3, 3, 3, 3, 3, 3, 3, 3, 3, 3, 3, 3, 3, 3, 3, 3, 3, 3, 3, 3, 3, 3, 3, 3, 3, 3, 3, 3, 3, 3, 3, 2, 2, 2, 2, 2, 2, 2, 2, 2, 2, 2, 2, 2, 2, 2, 2, 2, 2, 2, 2, 2, 2, 2, 2, 2, 2, 2, 2, 2, 2, 2, 2, 2, 2, 2, 2, 2, 2, 2, 2, 2, 2, 2, 2, 2, 2, 2, 2, 2, 2, 2, 2, 2, 2, 2, 2, 2, 2, 2, 2, 2, 2, 2, 2, 2, 2, 2, 2, 2, 2, 2, 2, 2, 2, 2, 2, 2, 2, 2, 2, 2, 2, 2, 2, 2, 2, 2, 2, 2, 2, 2, 2, 2, 2, 2, 2, 2, 2, 2, 2, 2, 2, 2, 2, 2, 2, 2, 2, 2, 2, 2, 2, 2, 2, 2, 2, 2, 2, 2, 2, 2, 2, 2, 2, 2, 2, 2, 2, 2, 2, 2, 2, 2, 2, 2, 2, 2, 2, 2, 2, 2, 2, 2, 2, 2, 2, 2, 2, 2, 2, 2, 2, 2, 2, 2, 2, 2, 2, 2, 2, 2, 2, 2, 2, 2, 2, 2, 2, 2, 2, 2, 2, 2, 2, 2, 2, 2, 1]\n"
     ]
    }
   ],
   "source": [
    "# Lets talk about connected components of a graph.\n",
    "print [len(c) for c in sorted(nx.connected_components(G), key=len, reverse=True)]"
   ]
  },
  {
   "cell_type": "code",
   "execution_count": 241,
   "metadata": {
    "collapsed": false,
    "slideshow": {
     "slide_type": "slide"
    }
   },
   "outputs": [],
   "source": [
    "graphs = [c for c in sorted(nx.connected_component_subgraphs(G), key=len, reverse=True)]"
   ]
  },
  {
   "cell_type": "code",
   "execution_count": 242,
   "metadata": {
    "collapsed": false
   },
   "outputs": [
    {
     "data": {
      "text/plain": [
       "14"
      ]
     },
     "execution_count": 242,
     "metadata": {},
     "output_type": "execute_result"
    }
   ],
   "source": [
    "len(graphs[1])"
   ]
  },
  {
   "cell_type": "code",
   "execution_count": 336,
   "metadata": {
    "collapsed": false
   },
   "outputs": [
    {
     "data": {
      "image/png": "[encoded data removed]",
      "text/plain": [
       "<matplotlib.figure.Figure at 0x1143e0a10>"
      ]
     },
     "metadata": {},
     "output_type": "display_data"
    }
   ],
   "source": [
    "nx.draw(graphs[5], with_labels=True)"
   ]
  },
  {
   "cell_type": "code",
   "execution_count": 337,
   "metadata": {
    "collapsed": false
   },
   "outputs": [
    {
     "name": "stdout",
     "output_type": "stream",
     "text": [
      "['22504', '6512', '18757', '5172', '3677', '23991']\n",
      "6\n",
      "5\n"
     ]
    }
   ],
   "source": [
    "# One of the most important features of network analyis is graph\n",
    "# traversal.\n",
    "print nx.shortest_path(graphs[0], '22504', '23991')\n",
    "print len(nx.shortest_path(graphs[0], '22504', '23991'))\n",
    "print nx.shortest_path_length(graphs[0], '22504', '23991')"
   ]
  },
  {
   "cell_type": "code",
   "execution_count": 245,
   "metadata": {
    "collapsed": false
   },
   "outputs": [],
   "source": [
    "# nx.shortest_path(G, '22504', '17453')"
   ]
  },
  {
   "cell_type": "markdown",
   "metadata": {
    "slideshow": {
     "slide_type": "slide"
    }
   },
   "source": [
    "### Excersise -3 \n",
    "##### Six degrees of separation, Erdos Number, Bacon Number!!\n",
    "\n",
    "Find the '22504' number of the graph G, if there is no connection between nodes then give it the number `-1`.\n",
    "Also plot a histogram of the '22504' number.\n",
    "\n",
    "HINT: `nx.shortest_path_length`"
   ]
  },
  {
   "cell_type": "code",
   "execution_count": 246,
   "metadata": {
    "collapsed": true
   },
   "outputs": [],
   "source": [
    "# G = nx.fast_gnp_random_graph(100, 0.3, seed=1)\n"
   ]
  },
  {
   "cell_type": "code",
   "execution_count": 247,
   "metadata": {
    "collapsed": false,
    "slideshow": {
     "slide_type": "slide"
    }
   },
   "outputs": [],
   "source": [
    "d = {}\n",
    "for node in G.nodes():\n",
    "    try:\n",
    "        d[node] = nx.shortest_path_length(G, '22504', node)\n",
    "    except:\n",
    "        d[node] = -1"
   ]
  },
  {
   "cell_type": "code",
   "execution_count": 248,
   "metadata": {
    "collapsed": false
   },
   "outputs": [
    {
     "data": {
      "image/png": "[encoded data removed]",
      "text/plain": [
       "<matplotlib.figure.Figure at 0x114170550>"
      ]
     },
     "metadata": {},
     "output_type": "display_data"
    }
   ],
   "source": [
    "plt.hist(d.values())\n",
    "plt.show()"
   ]
  },
  {
   "cell_type": "markdown",
   "metadata": {
    "slideshow": {
     "slide_type": "slide"
    }
   },
   "source": [
    "#### Structures, Cliques in a Network\n",
    "\n",
    "A subset of nodes which induce a complete subgraph is a clique."
   ]
  },
  {
   "cell_type": "code",
   "execution_count": 254,
   "metadata": {
    "collapsed": true
   },
   "outputs": [],
   "source": [
    "G = nx.complete_graph(5)\n",
    "G.add_edge(4, 5)"
   ]
  },
  {
   "cell_type": "code",
   "execution_count": 255,
   "metadata": {
    "collapsed": false
   },
   "outputs": [
    {
     "data": {
      "image/png": "[encoded data removed]",
      "text/plain": [
       "<matplotlib.figure.Figure at 0x113ca8750>"
      ]
     },
     "metadata": {},
     "output_type": "display_data"
    }
   ],
   "source": [
    "nx.draw(G)"
   ]
  },
  {
   "cell_type": "markdown",
   "metadata": {
    "slideshow": {
     "slide_type": "slide"
    }
   },
   "source": [
    "### Triads in a Network"
   ]
  },
  {
   "cell_type": "code",
   "execution_count": 259,
   "metadata": {
    "collapsed": true
   },
   "outputs": [],
   "source": [
    "G = nx.Graph()\n",
    "list_of_edges = [(0, 1), (0, 2), (0, 3), (0, 4), (0, 5), (0, 6), (1, 2), (3, 4), (5, 6)]\n",
    "G.add_edges_from(list_of_edges)"
   ]
  },
  {
   "cell_type": "code",
   "execution_count": 263,
   "metadata": {
    "collapsed": false
   },
   "outputs": [
    {
     "data": {
      "image/png": "[encoded data removed]",
      "text/plain": [
       "<matplotlib.figure.Figure at 0x113ad6bd0>"
      ]
     },
     "metadata": {},
     "output_type": "display_data"
    }
   ],
   "source": [
    "nx.draw(G, with_labels=True)"
   ]
  },
  {
   "cell_type": "code",
   "execution_count": 273,
   "metadata": {
    "collapsed": false,
    "slideshow": {
     "slide_type": "slide"
    }
   },
   "outputs": [
    {
     "data": {
      "image/png": "[encoded data removed]",
      "text/plain": [
       "<matplotlib.figure.Figure at 0x10fe18d50>"
      ]
     },
     "metadata": {},
     "output_type": "display_data"
    }
   ],
   "source": [
    "# Facebook friend search, amazon product recommendation.\n",
    "G = nx.complete_graph(4)\n",
    "G.remove_edge(0, 1)\n",
    "nx.draw(G, with_labels=True)"
   ]
  },
  {
   "cell_type": "markdown",
   "metadata": {
    "slideshow": {
     "slide_type": "slide"
    }
   },
   "source": [
    "#### Link Prediction usign Jaccard coefficient"
   ]
  },
  {
   "cell_type": "code",
   "execution_count": 338,
   "metadata": {
    "collapsed": false
   },
   "outputs": [],
   "source": [
    "G = nx.fast_gnp_random_graph(300, 0.2)\n",
    "# list(nx.jaccard_coefficient(G))"
   ]
  },
  {
   "cell_type": "markdown",
   "metadata": {},
   "source": [
    "### Excersise - \n",
    "\n",
    "Create a recommender for authors by listing the top 5 authors by jaccard coefficient."
   ]
  },
  {
   "cell_type": "code",
   "execution_count": 328,
   "metadata": {
    "collapsed": false
   },
   "outputs": [],
   "source": [
    "d ={}\n",
    "for u, v, p in nx.jaccard_coefficient(G):\n",
    "    if u in d:\n",
    "        d[u].append((v, p))\n",
    "    elif u not in d:\n",
    "        d[u] = [(v, p)]\n",
    "    if v in d:\n",
    "        d[v].append((u, p))\n",
    "    elif v not in d:\n",
    "        d[v] = [(u, p)]"
   ]
  },
  {
   "cell_type": "code",
   "execution_count": 329,
   "metadata": {
    "collapsed": false
   },
   "outputs": [
    {
     "name": "stdout",
     "output_type": "stream",
     "text": [
      "0 [(63, 0.20689655172413793), (192, 0.2), (278, 0.2), (234, 0.19801980198019803), (116, 0.1978021978021978)]\n",
      "1 [(86, 0.22641509433962265), (148, 0.19090909090909092), (248, 0.19047619047619047), (196, 0.19), (187, 0.18867924528301888)]\n",
      "2 [(258, 0.19327731092436976), (239, 0.19090909090909092), (163, 0.1891891891891892), (77, 0.18867924528301888), (24, 0.18803418803418803)]\n",
      "3 [(37, 0.1782178217821782), (284, 0.1782178217821782), (183, 0.17708333333333334), (275, 0.17346938775510204), (266, 0.17)]\n",
      "4 [(8, 0.19230769230769232), (30, 0.19), (61, 0.1891891891891892), (295, 0.18518518518518517), (231, 0.18446601941747573)]\n",
      "5 [(116, 0.19607843137254902), (191, 0.19444444444444445), (85, 0.18518518518518517), (291, 0.18095238095238095), (67, 0.1792452830188679)]\n",
      "6 [(248, 0.20388349514563106), (74, 0.20212765957446807), (55, 0.1941747572815534), (66, 0.19387755102040816), (99, 0.18421052631578946)]\n",
      "7 [(174, 0.22), (8, 0.1941747572815534), (80, 0.1926605504587156), (190, 0.1792452830188679), (92, 0.17857142857142858)]\n",
      "8 [(7, 0.1941747572815534), (4, 0.19230769230769232), (146, 0.19230769230769232), (249, 0.18095238095238095), (115, 0.1792452830188679)]\n",
      "9 [(231, 0.21505376344086022), (164, 0.1958762886597938), (200, 0.19387755102040816), (296, 0.19148936170212766), (154, 0.18867924528301888)]\n",
      "10 [(153, 0.19767441860465115), (131, 0.1827956989247312), (245, 0.1782178217821782), (246, 0.1702127659574468), (81, 0.17)]\n",
      "11 [(80, 0.18095238095238095), (122, 0.17582417582417584), (236, 0.17525773195876287), (147, 0.17142857142857143), (228, 0.16831683168316833)]\n",
      "12 [(290, 0.18584070796460178), (296, 0.1782178217821782), (126, 0.17307692307692307), (78, 0.1717171717171717), (190, 0.16981132075471697)]\n",
      "13 [(242, 0.20652173913043478), (144, 0.20588235294117646), (129, 0.1958762886597938), (37, 0.18627450980392157), (240, 0.1782178217821782)]\n",
      "14 [(68, 0.20909090909090908), (278, 0.1891891891891892), (254, 0.18478260869565216), (78, 0.18446601941747573), (211, 0.1810344827586207)]\n",
      "15 [(262, 0.2), (70, 0.19801980198019803), (99, 0.19658119658119658), (16, 0.1810344827586207), (8, 0.17757009345794392)]\n",
      "16 [(199, 0.20869565217391303), (295, 0.19827586206896552), (129, 0.19090909090909092), (278, 0.18803418803418803), (106, 0.1864406779661017)]\n",
      "17 [(277, 0.22429906542056074), (256, 0.1926605504587156), (226, 0.19148936170212766), (23, 0.18421052631578946), (62, 0.18269230769230768)]\n",
      "18 [(250, 0.20588235294117646), (193, 0.19230769230769232), (7, 0.17475728155339806), (181, 0.17272727272727273), (5, 0.1651376146788991)]\n",
      "19 [(223, 0.21929824561403508), (134, 0.21818181818181817), (295, 0.18699186991869918), (135, 0.18421052631578946), (208, 0.18333333333333332)]\n",
      "20 [(204, 0.18947368421052632), (264, 0.16853932584269662), (84, 0.16666666666666666), (152, 0.16470588235294117), (283, 0.16161616161616163)]\n",
      "21 [(277, 0.2), (153, 0.18823529411764706), (167, 0.17307692307692307), (191, 0.1702127659574468), (200, 0.16666666666666666)]\n",
      "22 [(201, 0.21551724137931033), (50, 0.20408163265306123), (290, 0.19090909090909092), (90, 0.16483516483516483), (41, 0.16326530612244897)]\n",
      "23 [(60, 0.21296296296296297), (265, 0.19491525423728814), (287, 0.19298245614035087), (50, 0.19130434782608696), (191, 0.1896551724137931)]\n",
      "24 [(193, 0.22321428571428573), (227, 0.21666666666666667), (54, 0.21621621621621623), (201, 0.2076923076923077), (81, 0.20689655172413793)]\n",
      "25 [(248, 0.19791666666666666), (89, 0.18681318681318682), (283, 0.17647058823529413), (130, 0.16666666666666666), (145, 0.16666666666666666)]\n",
      "26 [(295, 0.2), (98, 0.19), (105, 0.17592592592592593), (90, 0.17045454545454544), (45, 0.16822429906542055)]\n",
      "27 [(82, 0.23595505617977527), (141, 0.18627450980392157), (276, 0.18269230769230768), (85, 0.17346938775510204), (204, 0.17307692307692307)]\n",
      "28 [(138, 0.2), (286, 0.18518518518518517), (185, 0.1782178217821782), (274, 0.16842105263157894), (161, 0.16666666666666666)]\n",
      "29 [(192, 0.20833333333333334), (80, 0.2033898305084746), (34, 0.2018348623853211), (163, 0.19827586206896552), (296, 0.1891891891891892)]\n",
      "30 [(169, 0.19811320754716982), (34, 0.19791666666666666), (4, 0.19), (191, 0.19), (76, 0.17894736842105263)]\n",
      "31 [(39, 0.20652173913043478), (121, 0.18811881188118812), (29, 0.1619047619047619), (58, 0.1595744680851064), (269, 0.1590909090909091)]\n",
      "32 [(244, 0.21296296296296297), (103, 0.20202020202020202), (242, 0.18556701030927836), (291, 0.1782178217821782), (264, 0.17475728155339806)]\n",
      "33 [(201, 0.20535714285714285), (66, 0.18478260869565216), (170, 0.18269230769230768), (134, 0.1797752808988764), (84, 0.16831683168316833)]\n",
      "34 [(29, 0.2018348623853211), (30, 0.19791666666666666), (57, 0.19607843137254902), (131, 0.18), (151, 0.1792452830188679)]\n",
      "35 [(50, 0.17525773195876287), (252, 0.17475728155339806), (64, 0.16822429906542055), (71, 0.16666666666666666), (270, 0.1650485436893204)]\n",
      "36 [(64, 0.21818181818181817), (162, 0.18867924528301888), (166, 0.18584070796460178), (215, 0.18446601941747573), (44, 0.18095238095238095)]\n",
      "37 [(208, 0.21359223300970873), (98, 0.20754716981132076), (173, 0.20618556701030927), (174, 0.20388349514563106), (13, 0.18627450980392157)]\n",
      "38 [(148, 0.18269230769230768), (154, 0.1792452830188679), (46, 0.17708333333333334), (8, 0.17525773195876287), (164, 0.17346938775510204)]\n",
      "39 [(31, 0.20652173913043478), (223, 0.19801980198019803), (219, 0.19791666666666666), (44, 0.19230769230769232), (45, 0.1875)]\n",
      "40 [(244, 0.21153846153846154), (48, 0.17757009345794392), (224, 0.17647058823529413), (32, 0.16666666666666666), (54, 0.16666666666666666)]\n",
      "41 [(111, 0.20388349514563106), (100, 0.1935483870967742), (34, 0.17346938775510204), (222, 0.17346938775510204), (187, 0.17142857142857143)]\n",
      "42 [(258, 0.25688073394495414), (255, 0.20588235294117646), (51, 0.19801980198019803), (154, 0.19642857142857142), (193, 0.19047619047619047)]\n",
      "43 [(130, 0.21100917431192662), (186, 0.20491803278688525), (154, 0.2), (201, 0.1925925925925926), (255, 0.18803418803418803)]\n",
      "44 [(101, 0.19642857142857142), (130, 0.19387755102040816), (39, 0.19230769230769232), (220, 0.19), (95, 0.1834862385321101)]\n",
      "45 [(182, 0.19642857142857142), (63, 0.19607843137254902), (129, 0.19444444444444445), (39, 0.1875), (144, 0.1826086956521739)]\n",
      "46 [(202, 0.19811320754716982), (101, 0.1875), (215, 0.18627450980392157), (249, 0.18269230769230768), (23, 0.1810344827586207)]\n",
      "47 [(224, 0.1941747572815534), (293, 0.1836734693877551), (277, 0.17857142857142858), (17, 0.1782178217821782), (24, 0.17699115044247787)]\n",
      "48 [(258, 0.2184873949579832), (203, 0.21052631578947367), (199, 0.20535714285714285), (158, 0.19811320754716982), (192, 0.19491525423728814)]\n",
      "49 [(238, 0.1919191919191919), (205, 0.18681318681318682), (86, 0.18518518518518517), (186, 0.1743119266055046), (105, 0.16964285714285715)]\n",
      "50 [(22, 0.20408163265306123), (236, 0.2), (23, 0.19130434782608696), (227, 0.18584070796460178), (258, 0.1810344827586207)]\n",
      "51 [(105, 0.20909090909090908), (148, 0.2018348623853211), (131, 0.2), (42, 0.19801980198019803), (182, 0.1941747572815534)]\n",
      "52 [(86, 0.19811320754716982), (110, 0.18681318681318682), (93, 0.18181818181818182), (285, 0.18181818181818182), (118, 0.18085106382978725)]\n",
      "53 [(299, 0.2), (237, 0.19626168224299065), (145, 0.18947368421052632), (23, 0.17543859649122806), (86, 0.1743119266055046)]\n",
      "54 [(24, 0.21621621621621623), (68, 0.205607476635514), (277, 0.18584070796460178), (244, 0.18018018018018017), (298, 0.17894736842105263)]\n",
      "55 [(6, 0.1941747572815534), (101, 0.19298245614035087), (220, 0.18627450980392157), (240, 0.1792452830188679), (94, 0.17757009345794392)]\n",
      "56 [(291, 0.22), (191, 0.19811320754716982), (151, 0.1891891891891892), (61, 0.18421052631578946), (159, 0.18181818181818182)]\n",
      "57 [(34, 0.19607843137254902), (104, 0.18691588785046728), (70, 0.18627450980392157), (236, 0.18269230769230768), (8, 0.17757009345794392)]\n",
      "58 [(91, 0.1875), (174, 0.18627450980392157), (23, 0.1826086956521739), (267, 0.18181818181818182), (159, 0.17894736842105263)]\n",
      "59 [(286, 0.18269230769230768), (232, 0.1717171717171717), (280, 0.16666666666666666), (287, 0.16326530612244897), (142, 0.16)]\n",
      "60 [(23, 0.21296296296296297), (96, 0.2), (187, 0.17475728155339806), (201, 0.16806722689075632), (45, 0.16666666666666666)]\n",
      "61 [(237, 0.19658119658119658), (162, 0.19642857142857142), (92, 0.19491525423728814), (148, 0.19491525423728814), (174, 0.19090909090909092)]\n",
      "62 [(231, 0.19230769230769232), (74, 0.1919191919191919), (17, 0.18269230769230768), (68, 0.18018018018018017), (126, 0.17757009345794392)]\n",
      "63 [(0, 0.20689655172413793), (45, 0.19607843137254902), (142, 0.17708333333333334), (283, 0.17475728155339806), (260, 0.1744186046511628)]\n",
      "64 [(36, 0.21818181818181817), (225, 0.20168067226890757), (198, 0.19090909090909092), (192, 0.19008264462809918), (283, 0.18333333333333332)]\n",
      "65 [(83, 0.22), (253, 0.19626168224299065), (138, 0.18691588785046728), (266, 0.18691588785046728), (256, 0.1810344827586207)]\n",
      "66 [(102, 0.2087912087912088), (173, 0.20430107526881722), (191, 0.2), (6, 0.19387755102040816), (33, 0.18478260869565216)]\n",
      "67 [(269, 0.1935483870967742), (289, 0.19), (5, 0.1792452830188679), (239, 0.17142857142857143), (274, 0.1702127659574468)]\n",
      "68 [(169, 0.21238938053097345), (14, 0.20909090909090908), (54, 0.205607476635514), (243, 0.18867924528301888), (134, 0.18627450980392157)]\n",
      "69 [(165, 0.2087912087912088), (162, 0.1782178217821782), (2, 0.17475728155339806), (218, 0.16494845360824742), (14, 0.16346153846153846)]\n",
      "70 [(15, 0.19801980198019803), (57, 0.18627450980392157), (272, 0.17475728155339806), (144, 0.17307692307692307), (195, 0.1717171717171717)]\n",
      "71 [(296, 0.20192307692307693), (141, 0.1875), (151, 0.1875), (239, 0.18018018018018017), (227, 0.17796610169491525)]\n",
      "72 [(214, 0.18085106382978725), (196, 0.1782178217821782), (275, 0.1782178217821782), (291, 0.17), (62, 0.16981132075471697)]\n",
      "73 [(237, 0.1875), (148, 0.18584070796460178), (138, 0.18095238095238095), (56, 0.1743119266055046), (188, 0.1743119266055046)]\n",
      "74 [(6, 0.20212765957446807), (62, 0.1919191919191919), (244, 0.17142857142857143), (45, 0.16822429906542055), (256, 0.16822429906542055)]\n",
      "75 [(161, 0.20212765957446807), (36, 0.17346938775510204), (243, 0.16666666666666666), (153, 0.16483516483516483), (74, 0.16304347826086957)]\n",
      "76 [(297, 0.18), (30, 0.17894736842105263), (245, 0.16981132075471697), (277, 0.1651376146788991), (136, 0.16326530612244897)]\n",
      "77 [(195, 0.19), (2, 0.18867924528301888), (297, 0.18269230769230768), (156, 0.17142857142857143), (183, 0.17)]\n",
      "78 [(265, 0.19801980198019803), (9, 0.18478260869565216), (14, 0.18446601941747573), (299, 0.17894736842105263), (182, 0.1782178217821782)]\n",
      "79 [(161, 0.18478260869565216), (278, 0.17346938775510204), (8, 0.16842105263157894), (54, 0.16842105263157894), (255, 0.16842105263157894)]\n",
      "80 [(29, 0.2033898305084746), (222, 0.19811320754716982), (7, 0.1926605504587156), (211, 0.1864406779661017), (95, 0.1826086956521739)]\n",
      "81 [(24, 0.20689655172413793), (168, 0.19148936170212766), (181, 0.1826086956521739), (294, 0.17757009345794392), (154, 0.17647058823529413)]\n",
      "82 [(27, 0.23595505617977527), (184, 0.20212765957446807), (224, 0.20202020202020202), (131, 0.1836734693877551), (8, 0.16831683168316833)]\n",
      "83 [(65, 0.22), (104, 0.20202020202020202), (43, 0.1875), (121, 0.18691588785046728), (299, 0.17894736842105263)]\n",
      "84 [(295, 0.1981981981981982), (200, 0.19090909090909092), (101, 0.18803418803418803), (166, 0.18803418803418803), (267, 0.18095238095238095)]\n",
      "85 [(5, 0.18518518518518517), (37, 0.18095238095238095), (27, 0.17346938775510204), (178, 0.1717171717171717), (36, 0.17142857142857143)]\n",
      "86 [(1, 0.22641509433962265), (52, 0.19811320754716982), (49, 0.18518518518518517), (192, 0.18333333333333332), (127, 0.18181818181818182)]\n",
      "87 [(175, 0.19444444444444445), (137, 0.18269230769230768), (202, 0.18181818181818182), (278, 0.18181818181818182), (16, 0.1810344827586207)]\n",
      "88 [(0, 0.17045454545454544), (245, 0.16831683168316833), (256, 0.1650485436893204), (89, 0.16304347826086957), (189, 0.16279069767441862)]\n",
      "89 [(25, 0.18681318681318682), (112, 0.18556701030927836), (277, 0.18181818181818182), (117, 0.1782178217821782), (299, 0.17525773195876287)]\n",
      "90 [(183, 0.19101123595505617), (154, 0.17307692307692307), (26, 0.17045454545454544), (22, 0.16483516483516483), (71, 0.16161616161616163)]\n",
      "91 [(138, 0.19791666666666666), (58, 0.1875), (143, 0.1827956989247312), (71, 0.17647058823529413), (287, 0.17525773195876287)]\n",
      "92 [(207, 0.20909090909090908), (61, 0.19491525423728814), (95, 0.1896551724137931), (174, 0.1891891891891892), (237, 0.18487394957983194)]\n",
      "93 [(110, 0.1935483870967742), (225, 0.19090909090909092), (118, 0.1875), (234, 0.18691588785046728), (181, 0.1834862385321101)]\n",
      "94 [(286, 0.19090909090909092), (101, 0.18584070796460178), (55, 0.17757009345794392), (201, 0.1774193548387097), (149, 0.168141592920354)]\n",
      "95 [(148, 0.21052631578947367), (179, 0.19230769230769232), (92, 0.1896551724137931), (101, 0.18803418803418803), (127, 0.18691588785046728)]\n",
      "96 [(60, 0.2), (185, 0.19047619047619047), (209, 0.19047619047619047), (190, 0.1834862385321101), (269, 0.18)]\n",
      "97 [(208, 0.18811881188118812), (201, 0.18333333333333332), (271, 0.18269230769230768), (101, 0.18181818181818182), (273, 0.1782178217821782)]\n",
      "98 [(126, 0.20952380952380953), (184, 0.2079207920792079), (37, 0.20754716981132076), (148, 0.20353982300884957), (270, 0.2)]\n",
      "99 [(273, 0.24545454545454545), (126, 0.2), (15, 0.19658119658119658), (162, 0.19658119658119658), (98, 0.19491525423728814)]\n",
      "100 [(41, 0.1935483870967742), (148, 0.19047619047619047), (259, 0.17142857142857143), (217, 0.16483516483516483), (167, 0.16363636363636364)]\n",
      "101 [(228, 0.21621621621621623), (268, 0.20535714285714285), (237, 0.2033898305084746), (44, 0.19642857142857142), (259, 0.19491525423728814)]\n",
      "102 [(66, 0.2087912087912088), (248, 0.19387755102040816), (2, 0.16831683168316833), (19, 0.168141592920354), (7, 0.16494845360824742)]\n",
      "103 [(32, 0.20202020202020202), (43, 0.18584070796460178), (213, 0.18556701030927836), (272, 0.17475728155339806), (202, 0.17142857142857143)]\n",
      "104 [(83, 0.20202020202020202), (253, 0.19047619047619047), (133, 0.18947368421052632), (57, 0.18691588785046728), (264, 0.18446601941747573)]\n",
      "105 [(51, 0.20909090909090908), (121, 0.19008264462809918), (150, 0.19008264462809918), (271, 0.1896551724137931), (201, 0.1893939393939394)]\n",
      "106 [(285, 0.19811320754716982), (116, 0.19607843137254902), (180, 0.1941747572815534), (16, 0.1864406779661017), (227, 0.1864406779661017)]\n",
      "107 [(188, 0.19811320754716982), (276, 0.19090909090909092), (164, 0.19047619047619047), (258, 0.1896551724137931), (186, 0.17857142857142858)]\n",
      "108 [(268, 0.18181818181818182), (188, 0.1782178217821782), (68, 0.17475728155339806), (178, 0.17204301075268819), (73, 0.17)]\n",
      "109 [(95, 0.17346938775510204), (80, 0.17), (99, 0.16981132075471697), (72, 0.16129032258064516), (7, 0.1595744680851064)]\n",
      "110 [(270, 0.20408163265306123), (148, 0.19607843137254902), (93, 0.1935483870967742), (52, 0.18681318681318682), (285, 0.18085106382978725)]\n",
      "111 [(112, 0.21568627450980393), (126, 0.205607476635514), (41, 0.20388349514563106), (213, 0.20192307692307693), (233, 0.2018348623853211)]\n",
      "112 [(111, 0.21568627450980393), (277, 0.19444444444444445), (89, 0.18556701030927836), (167, 0.18018018018018017), (146, 0.1782178217821782)]\n",
      "113 [(182, 0.20212765957446807), (121, 0.19801980198019803), (277, 0.19607843137254902), (270, 0.19387755102040816), (207, 0.19148936170212766)]\n",
      "114 [(167, 0.21818181818181817), (265, 0.19047619047619047), (245, 0.1834862385321101), (133, 0.1827956989247312), (236, 0.1782178217821782)]\n",
      "115 [(258, 0.20869565217391303), (247, 0.19444444444444445), (42, 0.18095238095238095), (8, 0.1792452830188679), (30, 0.17647058823529413)]\n",
      "116 [(136, 0.2), (0, 0.1978021978021978), (5, 0.19607843137254902), (106, 0.19607843137254902), (258, 0.18018018018018017)]\n",
      "117 [(166, 0.1981981981981982), (111, 0.19626168224299065), (233, 0.1792452830188679), (89, 0.1782178217821782), (71, 0.17592592592592593)]\n",
      "118 [(93, 0.1875), (154, 0.18691588785046728), (52, 0.18085106382978725), (43, 0.18018018018018017), (201, 0.1794871794871795)]\n",
      "119 [(167, 0.1981981981981982), (265, 0.18095238095238095), (174, 0.17647058823529413), (80, 0.1743119266055046), (258, 0.17391304347826086)]\n",
      "120 [(192, 0.17475728155339806), (279, 0.16483516483516483), (273, 0.15789473684210525), (80, 0.1568627450980392), (107, 0.15625)]\n",
      "121 [(216, 0.2), (113, 0.19801980198019803), (188, 0.19298245614035087), (105, 0.19008264462809918), (31, 0.18811881188118812)]\n",
      "122 [(188, 0.18181818181818182), (296, 0.18085106382978725), (266, 0.17708333333333334), (11, 0.17582417582417584), (61, 0.17307692307692307)]\n",
      "123 [(208, 0.17346938775510204), (104, 0.1717171717171717), (278, 0.16666666666666666), (85, 0.16326530612244897), (284, 0.16)]\n",
      "124 [(277, 0.2), (203, 0.19444444444444445), (295, 0.17757009345794392), (226, 0.17708333333333334), (111, 0.17592592592592593)]\n",
      "125 [(213, 0.22115384615384615), (258, 0.20833333333333334), (225, 0.19658119658119658), (256, 0.19658119658119658), (192, 0.18487394957983194)]\n",
      "126 [(133, 0.21739130434782608), (98, 0.20952380952380953), (111, 0.205607476635514), (99, 0.2), (167, 0.19298245614035087)]\n",
      "127 [(95, 0.18691588785046728), (86, 0.18181818181818182), (144, 0.1792452830188679), (289, 0.17475728155339806), (232, 0.17307692307692307)]\n",
      "128 [(160, 0.2087912087912088), (266, 0.17708333333333334), (30, 0.17204301075268819), (211, 0.17142857142857143), (209, 0.16666666666666666)]\n",
      "129 [(297, 0.19801980198019803), (13, 0.1958762886597938), (45, 0.19444444444444445), (16, 0.19090909090909092), (187, 0.18095238095238095)]\n",
      "130 [(43, 0.21100917431192662), (44, 0.19387755102040816), (188, 0.18811881188118812), (229, 0.1827956989247312), (268, 0.16831683168316833)]\n",
      "131 [(51, 0.2), (198, 0.19), (82, 0.1836734693877551), (143, 0.1836734693877551), (10, 0.1827956989247312)]\n",
      "132 [(173, 0.20833333333333334), (104, 0.1792452830188679), (170, 0.17543859649122806), (16, 0.17391304347826086), (19, 0.17355371900826447)]\n",
      "133 [(126, 0.21739130434782608), (104, 0.18947368421052632), (114, 0.1827956989247312), (167, 0.18095238095238095), (99, 0.17757009345794392)]\n",
      "134 [(19, 0.21818181818181817), (68, 0.18627450980392157), (33, 0.1797752808988764), (280, 0.17894736842105263), (71, 0.17647058823529413)]\n",
      "135 [(19, 0.18421052631578946), (182, 0.18), (45, 0.17757009345794392), (166, 0.17592592592592593), (4, 0.17)]\n",
      "136 [(116, 0.2), (56, 0.18095238095238095), (1, 0.1782178217821782), (151, 0.17757009345794392), (232, 0.17475728155339806)]\n",
      "137 [(164, 0.2079207920792079), (283, 0.1834862385321101), (87, 0.18269230769230768), (6, 0.18), (39, 0.17475728155339806)]\n",
      "138 [(271, 0.23529411764705882), (28, 0.2), (148, 0.2), (91, 0.19791666666666666), (256, 0.1891891891891892)]\n",
      "139 [(201, 0.23622047244094488), (295, 0.19827586206896552), (216, 0.19672131147540983), (238, 0.1875), (218, 0.18018018018018017)]\n",
      "140 [(170, 0.17307692307692307), (178, 0.16666666666666666), (143, 0.16483516483516483), (150, 0.16346153846153846), (248, 0.16161616161616163)]\n",
      "141 [(201, 0.21774193548387097), (71, 0.1875), (227, 0.1864406779661017), (27, 0.18627450980392157), (87, 0.18018018018018017)]\n",
      "142 [(63, 0.17708333333333334), (13, 0.17647058823529413), (97, 0.17647058823529413), (101, 0.17543859649122806), (29, 0.17391304347826086)]\n",
      "143 [(295, 0.18446601941747573), (131, 0.1836734693877551), (91, 0.1827956989247312), (255, 0.18), (80, 0.1792452830188679)]\n",
      "144 [(13, 0.20588235294117646), (45, 0.1826086956521739), (275, 0.18095238095238095), (127, 0.1792452830188679), (46, 0.17757009345794392)]\n",
      "145 [(99, 0.19090909090909092), (53, 0.18947368421052632), (171, 0.18947368421052632), (194, 0.17391304347826086), (143, 0.16842105263157894)]\n",
      "146 [(157, 0.21), (229, 0.19387755102040816), (8, 0.19230769230769232), (186, 0.1891891891891892), (111, 0.1834862385321101)]\n",
      "147 [(154, 0.19491525423728814), (48, 0.19130434782608696), (98, 0.1875), (271, 0.1875), (296, 0.18691588785046728)]\n",
      "148 [(174, 0.21100917431192662), (95, 0.21052631578947367), (98, 0.20353982300884957), (51, 0.2018348623853211), (138, 0.2)]\n",
      "149 [(247, 0.19298245614035087), (227, 0.19166666666666668), (280, 0.18518518518518517), (153, 0.18269230769230768), (146, 0.17857142857142858)]\n",
      "150 [(248, 0.19298245614035087), (170, 0.19166666666666668), (105, 0.19008264462809918), (276, 0.1864406779661017), (250, 0.18584070796460178)]\n",
      "151 [(296, 0.21153846153846154), (279, 0.19230769230769232), (56, 0.1891891891891892), (271, 0.1891891891891892), (71, 0.1875)]\n",
      "152 [(46, 0.17346938775510204), (245, 0.17142857142857143), (180, 0.1702127659574468), (37, 0.17), (211, 0.16822429906542055)]\n",
      "153 [(10, 0.19767441860465115), (21, 0.18823529411764706), (149, 0.18269230769230768), (163, 0.1782178217821782), (101, 0.16822429906542055)]\n",
      "154 [(43, 0.2), (226, 0.2), (42, 0.19642857142857142), (147, 0.19491525423728814), (201, 0.1893939393939394)]\n",
      "155 [(266, 0.20212765957446807), (166, 0.18095238095238095), (224, 0.17346938775510204), (267, 0.17204301075268819), (203, 0.16346153846153846)]\n",
      "156 [(201, 0.21487603305785125), (98, 0.18518518518518517), (209, 0.18269230769230768), (154, 0.1826086956521739), (23, 0.17796610169491525)]\n",
      "157 [(146, 0.21), (186, 0.19444444444444445), (271, 0.18095238095238095), (202, 0.1792452830188679), (8, 0.17475728155339806)]\n",
      "158 [(48, 0.19811320754716982), (244, 0.19811320754716982), (106, 0.1792452830188679), (125, 0.17592592592592593), (62, 0.17307692307692307)]\n",
      "159 [(56, 0.18181818181818182), (14, 0.18), (58, 0.17894736842105263), (55, 0.1717171717171717), (234, 0.16666666666666666)]\n",
      "160 [(128, 0.2087912087912088), (50, 0.1782178217821782), (204, 0.17757009345794392), (252, 0.17757009345794392), (255, 0.17647058823529413)]\n",
      "161 [(75, 0.20212765957446807), (200, 0.19230769230769232), (79, 0.18478260869565216), (253, 0.18446601941747573), (47, 0.17647058823529413)]\n",
      "162 [(166, 0.22522522522522523), (99, 0.19658119658119658), (61, 0.19642857142857142), (36, 0.18867924528301888), (240, 0.1792452830188679)]\n",
      "163 [(192, 0.2), (29, 0.19827586206896552), (2, 0.1891891891891892), (259, 0.18421052631578946), (153, 0.1782178217821782)]\n",
      "164 [(137, 0.2079207920792079), (9, 0.1958762886597938), (107, 0.19047619047619047), (294, 0.18446601941747573), (37, 0.17757009345794392)]\n",
      "165 [(69, 0.2087912087912088), (148, 0.17757009345794392), (95, 0.17307692307692307), (167, 0.17272727272727273), (210, 0.17)]\n",
      "166 [(162, 0.22522522522522523), (258, 0.2032520325203252), (117, 0.1981981981981982), (84, 0.18803418803418803), (36, 0.18584070796460178)]\n",
      "167 [(114, 0.21818181818181817), (220, 0.21296296296296297), (244, 0.211864406779661), (119, 0.1981981981981982), (277, 0.19672131147540983)]\n",
      "168 [(81, 0.19148936170212766), (110, 0.17073170731707318), (136, 0.16853932584269662), (115, 0.16129032258064516), (284, 0.16129032258064516)]\n",
      "169 [(277, 0.21367521367521367), (68, 0.21238938053097345), (241, 0.20192307692307693), (260, 0.2), (30, 0.19811320754716982)]\n",
      "170 [(150, 0.19166666666666668), (224, 0.18421052631578946), (220, 0.1834862385321101), (33, 0.18269230769230768), (202, 0.1794871794871795)]\n",
      "171 [(145, 0.18947368421052632), (230, 0.18627450980392157), (279, 0.18556701030927836), (225, 0.1834862385321101), (253, 0.17647058823529413)]\n",
      "172 [(169, 0.18811881188118812), (68, 0.18181818181818182), (89, 0.17391304347826086), (207, 0.15463917525773196), (255, 0.15463917525773196)]\n",
      "173 [(132, 0.20833333333333334), (37, 0.20618556701030927), (66, 0.20430107526881722), (236, 0.17708333333333334), (219, 0.17582417582417584)]\n",
      "174 [(7, 0.22), (279, 0.21649484536082475), (148, 0.21100917431192662), (37, 0.20388349514563106), (61, 0.19090909090909092)]\n",
      "175 [(190, 0.22857142857142856), (87, 0.19444444444444445), (51, 0.1792452830188679), (284, 0.1743119266055046), (2, 0.16964285714285715)]\n",
      "176 [(64, 0.18181818181818182), (52, 0.17346938775510204), (117, 0.16666666666666666), (256, 0.16216216216216217), (162, 0.1619047619047619)]\n",
      "177 [(258, 0.18018018018018017), (37, 0.18), (226, 0.17391304347826086), (50, 0.1717171717171717), (116, 0.1702127659574468)]\n",
      "178 [(237, 0.1792452830188679), (265, 0.17647058823529413), (24, 0.1743119266055046), (1, 0.17346938775510204), (108, 0.17204301075268819)]\n",
      "179 [(95, 0.19230769230769232), (144, 0.17307692307692307), (219, 0.1702127659574468), (44, 0.16666666666666666), (125, 0.16666666666666666)]\n",
      "180 [(106, 0.1941747572815534), (193, 0.18811881188118812), (200, 0.17647058823529413), (45, 0.17592592592592593), (152, 0.1702127659574468)]\n",
      "181 [(148, 0.19658119658119658), (113, 0.19), (93, 0.1834862385321101), (68, 0.1826086956521739), (81, 0.1826086956521739)]\n",
      "182 [(113, 0.20212765957446807), (45, 0.19642857142857142), (51, 0.1941747572815534), (273, 0.18095238095238095), (204, 0.18018018018018017)]\n",
      "183 [(90, 0.19101123595505617), (3, 0.17708333333333334), (297, 0.17647058823529413), (201, 0.175), (56, 0.17307692307692307)]\n",
      "184 [(98, 0.2079207920792079), (82, 0.20212765957446807), (46, 0.18), (231, 0.17), (134, 0.16842105263157894)]\n",
      "185 [(96, 0.19047619047619047), (43, 0.1810344827586207), (28, 0.1782178217821782), (167, 0.17543859649122806), (147, 0.1743119266055046)]\n",
      "186 [(266, 0.22429906542056074), (43, 0.20491803278688525), (157, 0.19444444444444445), (146, 0.1891891891891892), (295, 0.1826086956521739)]\n",
      "187 [(259, 0.19469026548672566), (1, 0.18867924528301888), (233, 0.18181818181818182), (129, 0.18095238095238095), (274, 0.18)]\n",
      "188 [(107, 0.19811320754716982), (121, 0.19298245614035087), (130, 0.18811881188118812), (259, 0.18584070796460178), (122, 0.18181818181818182)]\n",
      "189 [(281, 0.23076923076923078), (78, 0.17582417582417584), (206, 0.17582417582417584), (14, 0.17), (244, 0.1650485436893204)]\n",
      "190 [(175, 0.22857142857142856), (96, 0.1834862385321101), (199, 0.18181818181818182), (234, 0.18018018018018017), (7, 0.1792452830188679)]\n",
      "191 [(277, 0.2072072072072072), (66, 0.2), (56, 0.19811320754716982), (5, 0.19444444444444445), (30, 0.19)]\n",
      "192 [(29, 0.20833333333333334), (256, 0.20168067226890757), (0, 0.2), (163, 0.2), (48, 0.19491525423728814)]\n",
      "193 [(24, 0.22321428571428573), (169, 0.19642857142857142), (18, 0.19230769230769232), (42, 0.19047619047619047), (180, 0.18811881188118812)]\n",
      "194 [(246, 0.18947368421052632), (145, 0.17391304347826086), (275, 0.16666666666666666), (245, 0.1619047619047619), (282, 0.15841584158415842)]\n",
      "195 [(77, 0.19), (218, 0.18181818181818182), (23, 0.17391304347826086), (70, 0.1717171717171717), (53, 0.17)]\n",
      "196 [(1, 0.19), (241, 0.1875), (292, 0.1797752808988764), (72, 0.1782178217821782), (0, 0.17708333333333334)]\n",
      "197 [(289, 0.1956521739130435), (111, 0.1836734693877551), (162, 0.16494845360824742), (282, 0.16494845360824742), (41, 0.16483516483516483)]\n",
      "198 [(295, 0.20192307692307693), (64, 0.19090909090909092), (131, 0.19), (19, 0.17796610169491525), (106, 0.17757009345794392)]\n",
      "199 [(16, 0.20869565217391303), (48, 0.20535714285714285), (273, 0.19811320754716982), (125, 0.18421052631578946), (190, 0.18181818181818182)]\n",
      "200 [(9, 0.19387755102040816), (161, 0.19230769230769232), (84, 0.19090909090909092), (264, 0.18269230769230768), (180, 0.17647058823529413)]\n",
      "201 [(234, 0.23770491803278687), (139, 0.23622047244094488), (258, 0.23076923076923078), (141, 0.21774193548387097), (22, 0.21551724137931033)]\n",
      "202 [(46, 0.19811320754716982), (87, 0.18181818181818182), (170, 0.1794871794871795), (157, 0.1792452830188679), (16, 0.17796610169491525)]\n",
      "203 [(248, 0.21818181818181817), (48, 0.21052631578947367), (124, 0.19444444444444445), (240, 0.18181818181818182), (17, 0.1743119266055046)]\n",
      "204 [(211, 0.19827586206896552), (249, 0.1926605504587156), (20, 0.18947368421052632), (2, 0.18584070796460178), (258, 0.18032786885245902)]\n",
      "205 [(49, 0.18681318681318682), (250, 0.17708333333333334), (274, 0.1724137931034483), (264, 0.17204301075268819), (275, 0.17204301075268819)]\n",
      "206 [(291, 0.18947368421052632), (19, 0.1826086956521739), (189, 0.17582417582417584), (54, 0.16831683168316833), (132, 0.16831683168316833)]\n",
      "207 [(92, 0.20909090909090908), (113, 0.19148936170212766), (121, 0.1875), (210, 0.18095238095238095), (276, 0.18018018018018017)]\n",
      "208 [(37, 0.21359223300970873), (97, 0.18811881188118812), (19, 0.18333333333333332), (138, 0.18269230769230768), (66, 0.17647058823529413)]\n",
      "209 [(223, 0.20202020202020202), (96, 0.19047619047619047), (51, 0.18811881188118812), (221, 0.18811881188118812), (104, 0.18269230769230768)]\n",
      "210 [(207, 0.18095238095238095), (37, 0.1792452830188679), (257, 0.17647058823529413), (29, 0.17391304347826086), (165, 0.17)]\n",
      "211 [(223, 0.2037037037037037), (204, 0.19827586206896552), (243, 0.1926605504587156), (80, 0.1864406779661017), (6, 0.18181818181818182)]\n",
      "212 [(202, 0.17708333333333334), (231, 0.17582417582417584), (290, 0.16346153846153846), (230, 0.15789473684210525), (103, 0.15555555555555556)]\n",
      "213 [(125, 0.22115384615384615), (111, 0.20192307692307693), (259, 0.19811320754716982), (103, 0.18556701030927836), (169, 0.18518518518518517)]\n",
      "214 [(244, 0.2), (72, 0.18085106382978725), (78, 0.17582417582417584), (233, 0.17346938775510204), (192, 0.17142857142857143)]\n",
      "215 [(154, 0.1875), (46, 0.18627450980392157), (36, 0.18446601941747573), (207, 0.17307692307692307), (80, 0.17272727272727273)]\n",
      "216 [(298, 0.20588235294117646), (121, 0.2), (139, 0.19672131147540983), (285, 0.1875), (105, 0.18699186991869918)]\n",
      "217 [(122, 0.16853932584269662), (2, 0.16831683168316833), (187, 0.16831683168316833), (42, 0.16494845360824742), (100, 0.16483516483516483)]\n",
      "218 [(240, 0.20202020202020202), (281, 0.19), (195, 0.18181818181818182), (139, 0.18018018018018017), (216, 0.16964285714285715)]\n",
      "219 [(39, 0.19791666666666666), (104, 0.1836734693877551), (250, 0.1836734693877551), (173, 0.17582417582417584), (37, 0.1717171717171717)]\n",
      "220 [(228, 0.22448979591836735), (167, 0.21296296296296297), (44, 0.19), (283, 0.18691588785046728), (55, 0.18627450980392157)]\n",
      "221 [(209, 0.18811881188118812), (23, 0.1826086956521739), (54, 0.17307692307692307), (225, 0.16964285714285715), (277, 0.168141592920354)]\n",
      "222 [(80, 0.19811320754716982), (101, 0.1926605504587156), (278, 0.18095238095238095), (24, 0.18018018018018017), (227, 0.18018018018018017)]\n",
      "223 [(19, 0.21929824561403508), (211, 0.2037037037037037), (209, 0.20202020202020202), (39, 0.19801980198019803), (23, 0.18421052631578946)]\n",
      "224 [(82, 0.20202020202020202), (47, 0.1941747572815534), (232, 0.19047619047619047), (170, 0.18421052631578946), (290, 0.1810344827586207)]\n",
      "225 [(265, 0.20353982300884957), (64, 0.20168067226890757), (125, 0.19658119658119658), (93, 0.19090909090909092), (171, 0.1834862385321101)]\n",
      "226 [(154, 0.2), (17, 0.19148936170212766), (191, 0.18556701030927836), (124, 0.17708333333333334), (287, 0.17708333333333334)]\n",
      "227 [(24, 0.21666666666666667), (149, 0.19166666666666668), (106, 0.1864406779661017), (141, 0.1864406779661017), (50, 0.18584070796460178)]\n",
      "228 [(220, 0.22448979591836735), (101, 0.21621621621621623), (291, 0.2), (283, 0.1875), (80, 0.17857142857142858)]\n",
      "229 [(146, 0.19387755102040816), (42, 0.1836734693877551), (130, 0.1827956989247312), (65, 0.17475728155339806), (234, 0.17307692307692307)]\n",
      "230 [(171, 0.18627450980392157), (38, 0.17346938775510204), (219, 0.1717171717171717), (111, 0.17117117117117117), (151, 0.17117117117117117)]\n",
      "231 [(9, 0.21505376344086022), (62, 0.19230769230769232), (4, 0.18446601941747573), (192, 0.17857142857142858), (16, 0.17699115044247787)]\n",
      "232 [(224, 0.19047619047619047), (16, 0.18421052631578946), (227, 0.18421052631578946), (276, 0.18018018018018017), (136, 0.17475728155339806)]\n",
      "233 [(111, 0.2018348623853211), (271, 0.19444444444444445), (187, 0.18181818181818182), (290, 0.1794871794871795), (117, 0.1792452830188679)]\n",
      "234 [(201, 0.23770491803278687), (0, 0.19801980198019803), (93, 0.18691588785046728), (29, 0.1864406779661017), (154, 0.1864406779661017)]\n",
      "235 [(243, 0.23157894736842105), (291, 0.18556701030927836), (0, 0.16666666666666666), (125, 0.1651376146788991), (201, 0.16393442622950818)]\n",
      "236 [(241, 0.2808988764044944), (265, 0.22772277227722773), (50, 0.2), (299, 0.18556701030927836), (57, 0.18269230769230768)]\n",
      "237 [(101, 0.2033898305084746), (61, 0.19658119658119658), (53, 0.19626168224299065), (286, 0.18803418803418803), (73, 0.1875)]\n",
      "238 [(49, 0.1919191919191919), (139, 0.1875), (99, 0.1826086956521739), (87, 0.18095238095238095), (193, 0.18095238095238095)]\n",
      "239 [(201, 0.21138211382113822), (2, 0.19090909090909092), (257, 0.18269230769230768), (71, 0.18018018018018017), (282, 0.17272727272727273)]\n",
      "240 [(218, 0.20202020202020202), (1, 0.18627450980392157), (106, 0.18518518518518517), (203, 0.18181818181818182), (55, 0.1792452830188679)]\n",
      "241 [(236, 0.2808988764044944), (169, 0.20192307692307693), (196, 0.1875), (105, 0.1743119266055046), (290, 0.17272727272727273)]\n",
      "242 [(13, 0.20652173913043478), (32, 0.18556701030927836), (293, 0.18478260869565216), (64, 0.1792452830188679), (163, 0.16666666666666666)]\n",
      "243 [(235, 0.23157894736842105), (211, 0.1926605504587156), (68, 0.18867924528301888), (19, 0.17796610169491525), (43, 0.1724137931034483)]\n",
      "244 [(32, 0.21296296296296297), (167, 0.211864406779661), (40, 0.21153846153846154), (214, 0.2), (158, 0.19811320754716982)]\n",
      "245 [(169, 0.18803418803418803), (114, 0.1834862385321101), (270, 0.1826086956521739), (249, 0.18018018018018017), (10, 0.1782178217821782)]\n",
      "246 [(194, 0.18947368421052632), (14, 0.17757009345794392), (10, 0.1702127659574468), (150, 0.16964285714285715), (245, 0.16216216216216217)]\n",
      "247 [(297, 0.22857142857142856), (271, 0.2018348623853211), (115, 0.19444444444444445), (149, 0.19298245614035087), (269, 0.1782178217821782)]\n",
      "248 [(203, 0.21818181818181817), (6, 0.20388349514563106), (25, 0.19791666666666666), (276, 0.19642857142857142), (102, 0.19387755102040816)]\n",
      "249 [(250, 0.21359223300970873), (297, 0.20192307692307693), (204, 0.1926605504587156), (46, 0.18269230769230768), (8, 0.18095238095238095)]\n",
      "250 [(249, 0.21359223300970873), (18, 0.20588235294117646), (294, 0.19607843137254902), (150, 0.18584070796460178), (219, 0.1836734693877551)]\n",
      "251 [(92, 0.18), (226, 0.17647058823529413), (72, 0.16304347826086957), (124, 0.16304347826086957), (255, 0.1595744680851064)]\n",
      "252 [(291, 0.19047619047619047), (160, 0.17757009345794392), (35, 0.17475728155339806), (114, 0.1743119266055046), (107, 0.17117117117117117)]\n",
      "253 [(65, 0.19626168224299065), (104, 0.19047619047619047), (161, 0.18446601941747573), (171, 0.17647058823529413), (188, 0.17592592592592593)]\n",
      "254 [(294, 0.18604651162790697), (14, 0.18478260869565216), (211, 0.17525773195876287), (182, 0.16483516483516483), (87, 0.16304347826086957)]\n",
      "255 [(42, 0.20588235294117646), (43, 0.18803418803418803), (80, 0.18018018018018017), (143, 0.18), (201, 0.1774193548387097)]\n",
      "256 [(192, 0.20168067226890757), (125, 0.19658119658119658), (17, 0.1926605504587156), (138, 0.1891891891891892), (65, 0.1810344827586207)]\n",
      "257 [(239, 0.18269230769230768), (210, 0.17647058823529413), (148, 0.17272727272727273), (81, 0.16822429906542055), (270, 0.16822429906542055)]\n",
      "258 [(42, 0.25688073394495414), (201, 0.23076923076923078), (48, 0.2184873949579832), (115, 0.20869565217391303), (125, 0.20833333333333334)]\n",
      "259 [(266, 0.2037037037037037), (213, 0.19811320754716982), (101, 0.19491525423728814), (187, 0.19469026548672566), (188, 0.18584070796460178)]\n",
      "260 [(169, 0.2), (63, 0.1744186046511628), (240, 0.16842105263157894), (96, 0.16161616161616163), (285, 0.15789473684210525)]\n",
      "261 [(9, 0.17708333333333334), (138, 0.17475728155339806), (284, 0.17142857142857143), (150, 0.16964285714285715), (65, 0.16666666666666666)]\n",
      "262 [(15, 0.2), (236, 0.17204301075268819), (71, 0.1717171717171717), (92, 0.16346153846153846), (113, 0.16279069767441862)]\n",
      "263 [(80, 0.17777777777777778), (107, 0.16470588235294117), (41, 0.16049382716049382), (105, 0.14583333333333334), (34, 0.14457831325301204)]\n",
      "264 [(286, 0.19626168224299065), (104, 0.18446601941747573), (200, 0.18269230769230768), (68, 0.17757009345794392), (32, 0.17475728155339806)]\n",
      "265 [(236, 0.22772277227722773), (225, 0.20353982300884957), (78, 0.19801980198019803), (23, 0.19491525423728814), (114, 0.19047619047619047)]\n",
      "266 [(186, 0.22429906542056074), (259, 0.2037037037037037), (276, 0.2037037037037037), (155, 0.20212765957446807), (169, 0.19090909090909092)]\n",
      "267 [(58, 0.18181818181818182), (84, 0.18095238095238095), (200, 0.17475728155339806), (155, 0.17204301075268819), (119, 0.1717171717171717)]\n",
      "268 [(101, 0.20535714285714285), (201, 0.18548387096774194), (108, 0.18181818181818182), (259, 0.17857142857142858), (237, 0.17699115044247787)]\n",
      "269 [(67, 0.1935483870967742), (96, 0.18), (247, 0.1782178217821782), (52, 0.1702127659574468), (98, 0.16831683168316833)]\n",
      "270 [(276, 0.21428571428571427), (110, 0.20408163265306123), (98, 0.2), (113, 0.19387755102040816), (290, 0.18487394957983194)]\n",
      "271 [(138, 0.23529411764705882), (247, 0.2018348623853211), (233, 0.19444444444444445), (105, 0.1896551724137931), (151, 0.1891891891891892)]\n",
      "272 [(278, 0.1926605504587156), (237, 0.17543859649122806), (70, 0.17475728155339806), (103, 0.17475728155339806), (96, 0.17272727272727273)]\n",
      "273 [(99, 0.24545454545454545), (199, 0.19811320754716982), (182, 0.18095238095238095), (297, 0.18095238095238095), (97, 0.1782178217821782)]\n",
      "274 [(281, 0.18947368421052632), (277, 0.18095238095238095), (187, 0.18), (250, 0.17346938775510204), (205, 0.1724137931034483)]\n",
      "275 [(290, 0.1875), (144, 0.18095238095238095), (72, 0.1782178217821782), (141, 0.17757009345794392), (234, 0.17757009345794392)]\n",
      "276 [(270, 0.21428571428571427), (266, 0.2037037037037037), (248, 0.19642857142857142), (107, 0.19090909090909092), (283, 0.18803418803418803)]\n",
      "277 [(17, 0.22429906542056074), (169, 0.21367521367521367), (191, 0.2072072072072072), (21, 0.2), (124, 0.2)]\n",
      "278 [(0, 0.2), (272, 0.1926605504587156), (14, 0.1891891891891892), (16, 0.18803418803418803), (23, 0.18333333333333332)]\n",
      "279 [(174, 0.21649484536082475), (151, 0.19230769230769232), (171, 0.18556701030927836), (107, 0.1782178217821782), (188, 0.17307692307692307)]\n",
      "280 [(291, 0.19791666666666666), (287, 0.1919191919191919), (149, 0.18518518518518517), (134, 0.17894736842105263), (181, 0.17592592592592593)]\n",
      "281 [(189, 0.23076923076923078), (218, 0.19), (274, 0.18947368421052632), (61, 0.18018018018018017), (15, 0.16822429906542055)]\n",
      "282 [(24, 0.20175438596491227), (174, 0.19047619047619047), (87, 0.1743119266055046), (239, 0.17272727272727273), (264, 0.17142857142857143)]\n",
      "283 [(276, 0.18803418803418803), (228, 0.1875), (220, 0.18691588785046728), (291, 0.18691588785046728), (271, 0.18421052631578946)]\n",
      "284 [(3, 0.1782178217821782), (37, 0.17757009345794392), (66, 0.17475728155339806), (175, 0.1743119266055046), (187, 0.17272727272727273)]\n",
      "285 [(201, 0.2), (106, 0.19811320754716982), (111, 0.19811320754716982), (216, 0.1875), (52, 0.18181818181818182)]\n",
      "286 [(264, 0.19626168224299065), (94, 0.19090909090909092), (237, 0.18803418803418803), (28, 0.18518518518518517), (59, 0.18269230769230768)]\n",
      "287 [(297, 0.20588235294117646), (23, 0.19298245614035087), (280, 0.1919191919191919), (226, 0.17708333333333334), (1, 0.17647058823529413)]\n",
      "288 [(256, 0.17757009345794392), (142, 0.17), (208, 0.17), (15, 0.16666666666666666), (133, 0.16666666666666666)]\n",
      "289 [(197, 0.1956521739130435), (67, 0.19), (248, 0.18867924528301888), (147, 0.1834862385321101), (202, 0.17592592592592593)]\n",
      "290 [(22, 0.19090909090909092), (98, 0.18803418803418803), (275, 0.1875), (12, 0.18584070796460178), (51, 0.18584070796460178)]\n",
      "291 [(56, 0.22), (228, 0.2), (280, 0.19791666666666666), (252, 0.19047619047619047), (206, 0.18947368421052632)]\n",
      "292 [(196, 0.1797752808988764), (286, 0.17346938775510204), (89, 0.16853932584269662), (227, 0.16666666666666666), (177, 0.16091954022988506)]\n",
      "293 [(242, 0.18478260869565216), (47, 0.1836734693877551), (265, 0.17475728155339806), (143, 0.16666666666666666), (250, 0.16666666666666666)]\n",
      "294 [(111, 0.2), (250, 0.19607843137254902), (254, 0.18604651162790697), (164, 0.18446601941747573), (258, 0.18421052631578946)]\n",
      "295 [(198, 0.20192307692307693), (26, 0.2), (16, 0.19827586206896552), (139, 0.19827586206896552), (84, 0.1981981981981982)]\n",
      "296 [(151, 0.21153846153846154), (71, 0.20192307692307693), (9, 0.19148936170212766), (29, 0.1891891891891892), (147, 0.18691588785046728)]\n",
      "297 [(247, 0.22857142857142856), (287, 0.20588235294117646), (249, 0.20192307692307693), (129, 0.19801980198019803), (77, 0.18269230769230768)]\n",
      "298 [(216, 0.20588235294117646), (54, 0.17894736842105263), (37, 0.17708333333333334), (173, 0.16853932584269662), (48, 0.16666666666666666)]\n",
      "299 [(53, 0.2), (236, 0.18556701030927836), (78, 0.17894736842105263), (83, 0.17894736842105263), (92, 0.17592592592592593)]\n"
     ]
    }
   ],
   "source": [
    "for u, w in d.items():\n",
    "    print u, sorted(w, key=lambda x: x[1], reverse=True)[0:5]"
   ]
  },
  {
   "cell_type": "code",
   "execution_count": null,
   "metadata": {
    "collapsed": true
   },
   "outputs": [],
   "source": []
  }
 ],
 "metadata": {
  "celltoolbar": "Slideshow",
  "kernelspec": {
   "display_name": "Python 2",
   "language": "python",
   "name": "python2"
  },
  "language_info": {
   "codemirror_mode": {
    "name": "ipython",
    "version": 2
   },
   "file_extension": ".py",
   "mimetype": "text/x-python",
   "name": "python",
   "nbconvert_exporter": "python",
   "pygments_lexer": "ipython2",
   "version": "2.7.10"
  }
 },
 "nbformat": 4,
 "nbformat_minor": 1
}
